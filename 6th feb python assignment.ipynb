{
 "cells": [
  {
   "cell_type": "markdown",
   "id": "c2f895f7",
   "metadata": {},
   "source": [
    "# Q1"
   ]
  },
  {
   "cell_type": "code",
   "execution_count": 70,
   "id": "065ace85",
   "metadata": {},
   "outputs": [],
   "source": [
    "def product(l):\n",
    "    from functools import reduce\n",
    "    L = []\n",
    "    for i in l:\n",
    "        if type(i)==int:\n",
    "            L.append(i)\n",
    "        elif type(i)==list:\n",
    "            for j in i:\n",
    "                if type(j)==int:\n",
    "                    L.append(j)\n",
    "                elif type(j)==list:\n",
    "                    for s in i:\n",
    "                        if type(s)==int:\n",
    "                            L.append(s)\n",
    "                elif type(j)==tuple:\n",
    "                    for k in j:\n",
    "                        if type(k)==int:\n",
    "                            L.append(k)\n",
    "                elif type(j)==set:\n",
    "                    for m in j:\n",
    "                        if type(m)==int:\n",
    "                            L.append(m)\n",
    "                elif type(j)==dict:\n",
    "                    for n in j.keys():\n",
    "                        if type(n)==int:\n",
    "                            L.append(n)\n",
    "                    for o in j.values():\n",
    "                        if type(o)==int:\n",
    "                            L.append(o)\n",
    "        elif type(i)==tuple:\n",
    "            for k in i:\n",
    "                if type(k)==int:\n",
    "                    L.append(k)\n",
    "                elif type(k)==list:\n",
    "                    for j in k:\n",
    "                        if type(j)==int:\n",
    "                            L.append(j)\n",
    "                elif type(k)==tuple:\n",
    "                    for t in k:\n",
    "                        if type(t)==int:\n",
    "                            L.append(t)\n",
    "                elif type(k)==set:\n",
    "                    for m in k:\n",
    "                        if type(m)==int:\n",
    "                            L.append(m)\n",
    "                elif type(k)==dict:\n",
    "                    for n in k.keys():\n",
    "                        if type(n)==int:\n",
    "                            L.append(n)\n",
    "                    for o in k.values():\n",
    "                        if type(o)==int:\n",
    "                            L.append(o)\n",
    "        elif type(i)==set:\n",
    "            for m in i:\n",
    "                if type(m)==int:\n",
    "                    L.append(m)\n",
    "                elif type(m)==list:\n",
    "                    for j in m:\n",
    "                        if type(j)==int:\n",
    "                            L.append(j)\n",
    "                elif type(m)==tuple:\n",
    "                    for k in m:\n",
    "                        if type(k)==int:\n",
    "                            L.append(k)\n",
    "                elif type(m)==set:\n",
    "                    for r in m:\n",
    "                        if type(r)==int:\n",
    "                            L.append(r)\n",
    "                elif type(m)==dict:\n",
    "                    for n in m.keys():\n",
    "                        if type(n)==int:\n",
    "                            L.append(n)\n",
    "                    for o in m.values():\n",
    "                        if type(o)==int:\n",
    "                            L.append(o)\n",
    "        elif type(i)==dict:\n",
    "            for n in i.keys():\n",
    "                if type(n)==int:\n",
    "                    L.append(n)\n",
    "                elif type(n)==list:\n",
    "                    for j in n:\n",
    "                        if type(j)==int:\n",
    "                            L.append(j)\n",
    "                elif type(n)==tuple:\n",
    "                    for k in n:\n",
    "                        if type(k)==int:\n",
    "                            L.append(k)\n",
    "                elif type(n)==set:\n",
    "                    for m in n:\n",
    "                        if type(m)==int:\n",
    "                            L.append(m)\n",
    "                elif type(n)==dict:\n",
    "                    for a in n.keys():\n",
    "                        if type(n)==int:\n",
    "                            L.append(n)\n",
    "                    for b in n.values():\n",
    "                        if type(o)==int:\n",
    "                            L.append(o)\n",
    "            for o in i.values():\n",
    "                if type(o)==int:\n",
    "                    L.append(o)\n",
    "                elif type(o)==list:\n",
    "                    for j in o:\n",
    "                        if type(j)==int:\n",
    "                            L.append(j)\n",
    "                elif type(o)==tuple:\n",
    "                    for k in o:\n",
    "                        if type(k)==int:\n",
    "                            L.append(k)\n",
    "                elif type(o)==set:\n",
    "                    for m in o:\n",
    "                        if type(m)==int:\n",
    "                            L.append(m)\n",
    "                elif type(o)==dict:\n",
    "                    for q in o.keys():\n",
    "                        if type(q)==int:\n",
    "                            L.append(q)\n",
    "                    for p in o.values():\n",
    "                        if type(p)==int:\n",
    "                            L.append(p)\n",
    "    \n",
    "    return reduce(lambda x,y:x*y,L)\n"
   ]
  },
  {
   "cell_type": "code",
   "execution_count": 71,
   "id": "30cd77e0",
   "metadata": {},
   "outputs": [
    {
     "data": {
      "text/plain": [
       "4134711838987085478833841242112000"
      ]
     },
     "execution_count": 71,
     "metadata": {},
     "output_type": "execute_result"
    }
   ],
   "source": [
    "l = [1,2,3,4, [44,55,66, True], False, (34,56,78,89,34), {1,2,3,3,2,1}, {1:34, \"key2\": [55, 67, 78, 89], 4: (45,\n",
    "22, 61, 34)}, [56, 'data science'], 'Machine Learning']\n",
    "product(l)"
   ]
  },
  {
   "cell_type": "markdown",
   "id": "c0ba58bb",
   "metadata": {},
   "source": [
    "# Q2"
   ]
  },
  {
   "cell_type": "code",
   "execution_count": 72,
   "id": "dd367eb7",
   "metadata": {},
   "outputs": [],
   "source": [
    "def massage_encryption(s1):\n",
    "    s2=s1.lower()\n",
    "    string = \"\"\n",
    "    for i in s2:\n",
    "        if i==\" \" or i==\"a\" or i==\"b\" or i==\"c\":\n",
    "            if i==\" \":\n",
    "                string=string+\"$\"\n",
    "            elif i==\"a\":\n",
    "                string = string+\"z\"\n",
    "            elif i==\"b\":\n",
    "                string=string+\"y\"\n",
    "            elif i==\"c\":\n",
    "                string=string+\"x\"\n",
    "        else:\n",
    "            string=string+i\n",
    "    return string      "
   ]
  },
  {
   "cell_type": "code",
   "execution_count": 73,
   "id": "cf20c423",
   "metadata": {},
   "outputs": [
    {
     "data": {
      "text/plain": [
       "'i$wznt$to$yexome$z$dztz$sxientist.'"
      ]
     },
     "execution_count": 73,
     "metadata": {},
     "output_type": "execute_result"
    }
   ],
   "source": [
    "s1= \"I want to become a Data Scientist.\"\n",
    "massage_encryption(s1)"
   ]
  }
 ],
 "metadata": {
  "kernelspec": {
   "display_name": "Python 3",
   "language": "python",
   "name": "python3"
  },
  "language_info": {
   "codemirror_mode": {
    "name": "ipython",
    "version": 3
   },
   "file_extension": ".py",
   "mimetype": "text/x-python",
   "name": "python",
   "nbconvert_exporter": "python",
   "pygments_lexer": "ipython3",
   "version": "3.8.8"
  }
 },
 "nbformat": 4,
 "nbformat_minor": 5
}
