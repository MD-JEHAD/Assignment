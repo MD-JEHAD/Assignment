{
 "cells": [
  {
   "cell_type": "markdown",
   "id": "f9c5e82a-0681-42eb-8827-8dab5463424c",
   "metadata": {},
   "source": [
    "# Q1"
   ]
  },
  {
   "cell_type": "code",
   "execution_count": 1,
   "id": "01346f23-356d-40a8-9ee0-dfa555eb4ce8",
   "metadata": {},
   "outputs": [
    {
     "name": "stdout",
     "output_type": "stream",
     "text": [
      "F-value: 2.25\n",
      "P-value: 0.2257624032771962\n"
     ]
    }
   ],
   "source": [
    "import numpy as np\n",
    "from scipy import stats\n",
    "def calculate_f_value(data1, data2):\n",
    "\n",
    "    var1 = np.var(data1, ddof=1) \n",
    "    var2 = np.var(data2, ddof=1)\n",
    "    if var1 < var2:\n",
    "        var1, var2 = var2, var1\n",
    "        data1, data2 = data2, data1\n",
    "    f_value = var1 / var2\n",
    "    df1 = len(data1) - 1\n",
    "    df2 = len(data2) - 1\n",
    "    p_value = 1 - stats.f.cdf(f_value, df1, df2)\n",
    "    return f_value, p_value\n",
    "data1 = [12, 15, 18, 21, 24]\n",
    "data2 = [9, 11, 13, 15, 17]\n",
    "f_value, p_value = calculate_f_value(data1, data2)\n",
    "print(f\"F-value: {f_value}\")\n",
    "print(f\"P-value: {p_value}\")"
   ]
  },
  {
   "cell_type": "markdown",
   "id": "7cabdfe0-bdde-4ea6-80a7-cf5c3ee2744e",
   "metadata": {},
   "source": [
    "# Q2"
   ]
  },
  {
   "cell_type": "code",
   "execution_count": 2,
   "id": "6209da4d-f52c-40e6-9ba0-dcf49a82f175",
   "metadata": {},
   "outputs": [
    {
     "name": "stdout",
     "output_type": "stream",
     "text": [
      "Critical F-value: 7.763589482018546\n"
     ]
    }
   ],
   "source": [
    "from scipy import stats\n",
    "def calculate_critical_f_value(alpha, df1, df2):\n",
    "    critical_f_value = stats.f.ppf(1 - alpha/2, df1, df2)\n",
    "    return critical_f_value\n",
    "alpha = 0.05\n",
    "df1 = 3\n",
    "df2 = 5\n",
    "critical_f = calculate_critical_f_value(alpha, df1, df2)\n",
    "print(f\"Critical F-value: {critical_f}\")"
   ]
  },
  {
   "cell_type": "markdown",
   "id": "9cfad7df-648b-45d7-8eaa-27533910ae67",
   "metadata": {},
   "source": [
    "# Q3"
   ]
  },
  {
   "cell_type": "code",
   "execution_count": 1,
   "id": "7050df17-56ec-457a-8b12-741a145fb3bd",
   "metadata": {},
   "outputs": [
    {
     "name": "stdout",
     "output_type": "stream",
     "text": [
      "F-value: 0.7974\n",
      "Degrees of Freedom: (29, 39)\n",
      "P-value: 0.5308\n",
      "Fail to reject the null hypothesis: Variances are equal.\n"
     ]
    }
   ],
   "source": [
    "import numpy as np\n",
    "from scipy import stats\n",
    "mean1 = 0 \n",
    "variance1 = 1\n",
    "mean2 = 0  \n",
    "variance2 = 2  \n",
    "sample_size1 = 30\n",
    "sample_size2 = 40\n",
    "np.random.seed(0) \n",
    "sample1 = np.random.normal(mean1, np.sqrt(variance1), sample_size1)\n",
    "sample2 = np.random.normal(mean2, np.sqrt(variance2), sample_size2)\n",
    "f_value = np.var(sample1, ddof=1) / np.var(sample2, ddof=1)\n",
    "df1 = sample_size1 - 1\n",
    "df2 = sample_size2 - 1\n",
    "p_value = 2 * min(stats.f.cdf(f_value, df1, df2), 1 - stats.f.cdf(f_value, df1, df2))\n",
    "print(f\"F-value: {f_value:.4f}\")\n",
    "print(f\"Degrees of Freedom: ({df1}, {df2})\")\n",
    "print(f\"P-value: {p_value:.4f}\")\n",
    "alpha = 0.05 \n",
    "if p_value < alpha:\n",
    "    print(\"Reject the null hypothesis: Variances are not equal.\")\n",
    "else:\n",
    "    print(\"Fail to reject the null hypothesis: Variances are equal.\")"
   ]
  },
  {
   "cell_type": "markdown",
   "id": "0c847bee-d150-4db9-90c1-534463e142f3",
   "metadata": {},
   "source": [
    "# Q4"
   ]
  },
  {
   "cell_type": "code",
   "execution_count": 2,
   "id": "ba112e6c-bb25-4d32-91d1-07bb7aad0052",
   "metadata": {},
   "outputs": [
    {
     "name": "stdout",
     "output_type": "stream",
     "text": [
      "F-statistic: 0.6667\n",
      "Degrees of Freedom: (11, 11)\n",
      "P-value: 0.5124\n",
      "Fail to reject the null hypothesis: Variances are not significantly different.\n"
     ]
    }
   ],
   "source": [
    "from scipy import stats\n",
    "variance1 = 10\n",
    "variance2 = 15\n",
    "n1 = 12\n",
    "n2 = 12\n",
    "f_statistic = variance1 / variance2\n",
    "df1 = n1 - 1\n",
    "df2 = n2 - 1\n",
    "p_value = 2 * min(stats.f.cdf(f_statistic, df1, df2), 1 - stats.f.cdf(f_statistic, df1, df2))\n",
    "alpha = 0.05\n",
    "print(f\"F-statistic: {f_statistic:.4f}\")\n",
    "print(f\"Degrees of Freedom: ({df1}, {df2})\")\n",
    "print(f\"P-value: {p_value:.4f}\")\n",
    "if p_value < alpha:\n",
    "    print(\"Reject the null hypothesis: Variances are significantly different.\")\n",
    "else:\n",
    "    print(\"Fail to reject the null hypothesis: Variances are not significantly different.\")"
   ]
  },
  {
   "cell_type": "markdown",
   "id": "242f87f9-7857-4aaf-9463-3a9958e415ff",
   "metadata": {},
   "source": [
    "# Q5"
   ]
  },
  {
   "cell_type": "code",
   "execution_count": 4,
   "id": "84f91c61-72cc-4354-8bb2-93f53155bc0e",
   "metadata": {},
   "outputs": [
    {
     "name": "stdout",
     "output_type": "stream",
     "text": [
      "F-statistic: 1.2000\n",
      "Degrees of Freedom: (24, 1)\n",
      "P-value: 0.6296\n",
      "Fail to reject the null hypothesis: The claim is justified.\n"
     ]
    }
   ],
   "source": [
    "from scipy import stats\n",
    "claim_variance = 0.005\n",
    "sample_variance = 0.006\n",
    "n = 25\n",
    "f_statistic = sample_variance / claim_variance\n",
    "df1 = n - 1  \n",
    "df2 = 1    \n",
    "p_value = 1 - stats.f.cdf(f_statistic, df1, df2)\n",
    "alpha = 0.01 \n",
    "print(f\"F-statistic: {f_statistic:.4f}\")\n",
    "print(f\"Degrees of Freedom: ({df1}, {df2})\")\n",
    "print(f\"P-value: {p_value:.4f}\")\n",
    "if p_value < alpha:\n",
    "    print(\"Reject the null hypothesis: The claim is not justified.\")\n",
    "else:\n",
    "    print(\"Fail to reject the null hypothesis: The claim is justified.\")"
   ]
  },
  {
   "cell_type": "markdown",
   "id": "fae1f873-780f-4e5e-b012-f010a4682a90",
   "metadata": {},
   "source": [
    "# Q6"
   ]
  },
  {
   "cell_type": "code",
   "execution_count": 5,
   "id": "4a592205-ff2e-4529-a574-72f842b00aa4",
   "metadata": {},
   "outputs": [
    {
     "name": "stdout",
     "output_type": "stream",
     "text": [
      "Mean: 1.2500\n",
      "Variance: 1.3542\n"
     ]
    }
   ],
   "source": [
    "def calculate_f_distribution_mean_and_variance(df1, df2):\n",
    "    if df1 <= 0 or df2 <= 0:\n",
    "        raise ValueError(\"Degrees of freedom must be greater than zero.\")\n",
    "    if df2 > 2:\n",
    "        mean = df2 / (df2 - 2)\n",
    "    else:\n",
    "        mean = float('inf')  \n",
    "    if df2 > 4:\n",
    "        variance = (2 * (df2 ** 2) * (df1 + df2 - 2)) / (df1 * (df2 - 2) ** 2 * (df2 - 4))\n",
    "    else:\n",
    "        variance = float('inf')  \n",
    "    return mean, variance\n",
    "df1 = 5  \n",
    "df2 = 10 \n",
    "mean, variance = calculate_f_distribution_mean_and_variance(df1, df2)\n",
    "print(f\"Mean: {mean:.4f}\")\n",
    "print(f\"Variance: {variance:.4f}\")"
   ]
  },
  {
   "cell_type": "markdown",
   "id": "e4ae42c6-eb2e-4ef8-a8ce-7d677b7033b2",
   "metadata": {},
   "source": [
    "# Q7"
   ]
  },
  {
   "cell_type": "code",
   "execution_count": 6,
   "id": "757af32f-31bf-46e4-a000-2a9189d24cec",
   "metadata": {},
   "outputs": [
    {
     "name": "stdout",
     "output_type": "stream",
     "text": [
      "F-statistic: 1.2500\n",
      "Degrees of Freedom: (9, 14)\n",
      "P-value: 0.6832\n",
      "Fail to reject the null hypothesis: Variances are not significantly different.\n"
     ]
    }
   ],
   "source": [
    "from scipy import stats\n",
    "sample_variance1 = 25\n",
    "sample_variance2 = 20\n",
    "n1 = 10\n",
    "n2 = 15\n",
    "f_statistic = sample_variance1 / sample_variance2\n",
    "df1 = n1 - 1 \n",
    "df2 = n2 - 1 \n",
    "p_value = 2 * min(stats.f.cdf(f_statistic, df1, df2), 1 - stats.f.cdf(f_statistic, df1, df2))\n",
    "alpha = 0.10  # 10% significance level\n",
    "print(f\"F-statistic: {f_statistic:.4f}\")\n",
    "print(f\"Degrees of Freedom: ({df1}, {df2})\")\n",
    "print(f\"P-value: {p_value:.4f}\")\n",
    "if p_value < alpha:\n",
    "    print(\"Reject the null hypothesis: Variances are significantly different.\")\n",
    "else:\n",
    "    print(\"Fail to reject the null hypothesis: Variances are not significantly different.\")"
   ]
  },
  {
   "cell_type": "markdown",
   "id": "6db29d2f-d5fc-479a-9aaf-3bc45c32187c",
   "metadata": {},
   "source": [
    "# Q8"
   ]
  },
  {
   "cell_type": "code",
   "execution_count": 7,
   "id": "d965c29c-f6d0-480f-ae97-9d93b04bb2e0",
   "metadata": {},
   "outputs": [
    {
     "name": "stdout",
     "output_type": "stream",
     "text": [
      "F-statistic: 1.4552\n",
      "Degrees of Freedom: (6, 5)\n",
      "P-value: 0.6975\n",
      "Fail to reject the null hypothesis: Variances are not significantly different.\n"
     ]
    }
   ],
   "source": [
    "from scipy import stats\n",
    "waiting_times_a = [24, 25, 28, 23, 22, 20, 27]\n",
    "waiting_times_b = [31, 33, 35, 30, 32, 36]\n",
    "variance_a = sum((x - sum(waiting_times_a) / len(waiting_times_a))**2 for x in waiting_times_a) / (len(waiting_times_a) - 1)\n",
    "variance_b = sum((x - sum(waiting_times_b) / len(waiting_times_b))**2 for x in waiting_times_b) / (len(waiting_times_b) - 1)\n",
    "f_statistic = variance_a / variance_b\n",
    "df1 = len(waiting_times_a) - 1 \n",
    "df2 = len(waiting_times_b) - 1 \n",
    "p_value = 2 * min(stats.f.cdf(f_statistic, df1, df2), 1 - stats.f.cdf(f_statistic, df1, df2))\n",
    "alpha = 0.05  \n",
    "print(f\"F-statistic: {f_statistic:.4f}\")\n",
    "print(f\"Degrees of Freedom: ({df1}, {df2})\")\n",
    "print(f\"P-value: {p_value:.4f}\")\n",
    "if p_value < alpha:\n",
    "    print(\"Reject the null hypothesis: Variances are significantly different.\")\n",
    "else:\n",
    "    print(\"Fail to reject the null hypothesis: Variances are not significantly different.\")"
   ]
  },
  {
   "cell_type": "markdown",
   "id": "0269e3e1-ea0d-4202-8b48-07100b71f47a",
   "metadata": {},
   "source": [
    "# Q9"
   ]
  },
  {
   "cell_type": "code",
   "execution_count": 8,
   "id": "b8db8ec1-22d5-476b-a7cb-a4c64e22301d",
   "metadata": {},
   "outputs": [
    {
     "name": "stdout",
     "output_type": "stream",
     "text": [
      "F-statistic: 1.9443\n",
      "Degrees of Freedom: (5, 5)\n",
      "P-value: 0.4831\n",
      "Fail to reject the null hypothesis: Variances are not significantly different.\n"
     ]
    }
   ],
   "source": [
    "from scipy import stats\n",
    "scores_group_a = [80, 85, 90, 92, 87, 83]\n",
    "scores_group_b = [75, 78, 82, 79, 81, 84]\n",
    "variance_group_a = sum((x - sum(scores_group_a) / len(scores_group_a))**2 for x in scores_group_a) / (len(scores_group_a) - 1)\n",
    "variance_group_b = sum((x - sum(scores_group_b) / len(scores_group_b))**2 for x in scores_group_b) / (len(scores_group_b) - 1)\n",
    "f_statistic = variance_group_a / variance_group_b\n",
    "df1 = len(scores_group_a) - 1 \n",
    "df2 = len(scores_group_b) - 1  \n",
    "p_value = 2 * min(stats.f.cdf(f_statistic, df1, df2), 1 - stats.f.cdf(f_statistic, df1, df2))\n",
    "alpha = 0.01 \n",
    "print(f\"F-statistic: {f_statistic:.4f}\")\n",
    "print(f\"Degrees of Freedom: ({df1}, {df2})\")\n",
    "print(f\"P-value: {p_value:.4f}\")\n",
    "if p_value < alpha:\n",
    "    print(\"Reject the null hypothesis: Variances are significantly different.\")\n",
    "else:\n",
    "    print(\"Fail to reject the null hypothesis: Variances are not significantly different.\")"
   ]
  },
  {
   "cell_type": "code",
   "execution_count": null,
   "id": "fc292838-f47a-4d22-880f-25dd103d55ab",
   "metadata": {},
   "outputs": [],
   "source": []
  }
 ],
 "metadata": {
  "kernelspec": {
   "display_name": "Python 3 (ipykernel)",
   "language": "python",
   "name": "python3"
  },
  "language_info": {
   "codemirror_mode": {
    "name": "ipython",
    "version": 3
   },
   "file_extension": ".py",
   "mimetype": "text/x-python",
   "name": "python",
   "nbconvert_exporter": "python",
   "pygments_lexer": "ipython3",
   "version": "3.10.8"
  }
 },
 "nbformat": 4,
 "nbformat_minor": 5
}
