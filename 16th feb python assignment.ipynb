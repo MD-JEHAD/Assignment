{
 "cells": [
  {
   "cell_type": "markdown",
   "id": "ca432699",
   "metadata": {},
   "source": [
    "# Q1"
   ]
  },
  {
   "cell_type": "markdown",
   "id": "6ecdc3aa",
   "metadata": {},
   "source": [
    "A database is an organized collection of structured information, or data, typically stored electronically in a computer system.\n",
    "# SQL\n",
    "SQL is structured query language where we can store only structured format data like tabler format.\n",
    "# NoSQL\n",
    "NoSQL is Not only structured query language where we can store any format data."
   ]
  },
  {
   "cell_type": "markdown",
   "id": "a8c95aa0",
   "metadata": {},
   "source": [
    "# Q2"
   ]
  },
  {
   "cell_type": "markdown",
   "id": "4222bcb8",
   "metadata": {},
   "source": [
    "# DDL\n",
    "DDL is data definition language that used to create and modify the structure of database objects in a database."
   ]
  },
  {
   "cell_type": "markdown",
   "id": "caa4446b",
   "metadata": {},
   "source": [
    "# CREATE \n",
    "CREATE is used for creating a new database or table under database"
   ]
  },
  {
   "cell_type": "code",
   "execution_count": 1,
   "id": "20dc083c",
   "metadata": {},
   "outputs": [
    {
     "data": {
      "text/plain": [
       "[('database1',),\n",
       " ('information_schema',),\n",
       " ('jehad',),\n",
       " ('mysql',),\n",
       " ('performance_schema',),\n",
       " ('sys',)]"
      ]
     },
     "execution_count": 1,
     "metadata": {},
     "output_type": "execute_result"
    }
   ],
   "source": [
    "import mysql.connector as conn\n",
    "mydb = conn.connect(host = \"localhost\", user = \"root\",passwd = \"912865\")\n",
    "cursor = mydb.cursor()\n",
    "cursor.execute(\"CREATE database if not exists DATABASE1\")\n",
    "cursor.execute(\"CREATE table if not exists DATABASE1.table1(NAME VARCHAR(30),AGE INT(10),CLASS INT(10))\")\n",
    "cursor.execute(\"show databases\")\n",
    "cursor.fetchall()"
   ]
  },
  {
   "cell_type": "markdown",
   "id": "9bd50cab",
   "metadata": {},
   "source": [
    "# DROP\n",
    "DROP is used for delete database or table under database."
   ]
  },
  {
   "cell_type": "code",
   "execution_count": 25,
   "id": "8dfff2ee",
   "metadata": {},
   "outputs": [
    {
     "data": {
      "text/plain": [
       "[('information_schema',),\n",
       " ('jehad',),\n",
       " ('mysql',),\n",
       " ('performance_schema',),\n",
       " ('sys',)]"
      ]
     },
     "execution_count": 25,
     "metadata": {},
     "output_type": "execute_result"
    }
   ],
   "source": [
    "cursor.execute(\"DROP database DATABASE1\")\n",
    "cursor.execute(\"show databases\")\n",
    "cursor.fetchall()"
   ]
  },
  {
   "cell_type": "markdown",
   "id": "000e8189",
   "metadata": {},
   "source": [
    "# ALTER\n",
    "The ALTER TABLE statement is used to add, delete, or modify columns in an existing table"
   ]
  },
  {
   "cell_type": "markdown",
   "id": "59f00dd9",
   "metadata": {},
   "source": [
    "# TRUNCATE\n",
    "TRUNCATE TABLE removes the data by deallocating the data pages used to store the table data and records only the page deallocations in the transaction log"
   ]
  },
  {
   "cell_type": "markdown",
   "id": "b52e72e4",
   "metadata": {},
   "source": [
    "# Q3\n"
   ]
  },
  {
   "cell_type": "markdown",
   "id": "04ea02b0",
   "metadata": {},
   "source": [
    "# DML\n",
    "DML is data manipulation language.It is a family of computer languages including commands permitting users to manipulate data in a database."
   ]
  },
  {
   "cell_type": "markdown",
   "id": "e3597264",
   "metadata": {},
   "source": [
    "# INSERT\n",
    "INSERT is used for insert data in database table."
   ]
  },
  {
   "cell_type": "code",
   "execution_count": 2,
   "id": "93cad690",
   "metadata": {},
   "outputs": [
    {
     "data": {
      "text/plain": [
       "[('jehad', 22, 15), ('Python', 22, 15)]"
      ]
     },
     "execution_count": 2,
     "metadata": {},
     "output_type": "execute_result"
    }
   ],
   "source": [
    "cursor.execute(\"INSERT into DATABASE1.table1 values('jehad',22,15)\")\n",
    "cursor.execute(\"INSERT into DATABASE1.table1 values('Python',22,15)\")\n",
    "cursor.execute(\"select * from DATABASE1.table1\")\n",
    "cursor.fetchall()"
   ]
  },
  {
   "cell_type": "markdown",
   "id": "76aa0eed",
   "metadata": {},
   "source": [
    "# UPDATE\n",
    "UPDATE is used for updating the data from table."
   ]
  },
  {
   "cell_type": "code",
   "execution_count": 3,
   "id": "21d432a0",
   "metadata": {},
   "outputs": [
    {
     "data": {
      "text/plain": [
       "[('RJ', 22, 15), ('Python', 22, 15)]"
      ]
     },
     "execution_count": 3,
     "metadata": {},
     "output_type": "execute_result"
    }
   ],
   "source": [
    "cursor.execute(\"UPDATE DATABASE1.table1 set NAME = 'RJ' where NAME = 'jehad'\")\n",
    "cursor.execute(\"select * from DATABASE1.table1\")\n",
    "cursor.fetchall()"
   ]
  },
  {
   "cell_type": "markdown",
   "id": "9988c5af",
   "metadata": {},
   "source": [
    "# DELETE\n",
    "DELETE is used to delete existing records from a table."
   ]
  },
  {
   "cell_type": "code",
   "execution_count": 29,
   "id": "031b8493",
   "metadata": {},
   "outputs": [
    {
     "data": {
      "text/plain": [
       "[('Python', 22, 15)]"
      ]
     },
     "execution_count": 29,
     "metadata": {},
     "output_type": "execute_result"
    }
   ],
   "source": [
    "cursor.execute(\"DELETE from DATABASE1.table1 where NAME = 'RJ'\")\n",
    "cursor.execute(\"select * from DATABASE1.table1\")\n",
    "cursor.fetchall()"
   ]
  },
  {
   "cell_type": "markdown",
   "id": "7605a2d4",
   "metadata": {},
   "source": [
    "# Q4"
   ]
  },
  {
   "cell_type": "markdown",
   "id": "d78344cf",
   "metadata": {},
   "source": [
    "# DQL\n",
    "DQL is Data query language.It is part of the base grouping of SQL sub-languages."
   ]
  },
  {
   "cell_type": "code",
   "execution_count": 4,
   "id": "62201c1a",
   "metadata": {},
   "outputs": [
    {
     "data": {
      "text/plain": [
       "[('Python', 22, 15)]"
      ]
     },
     "execution_count": 4,
     "metadata": {},
     "output_type": "execute_result"
    }
   ],
   "source": [
    "# SELECT\n",
    "cursor.execute(\"select * from DATABASE1.table1 where NAME = 'Python'\")\n",
    "cursor.fetchall()"
   ]
  },
  {
   "cell_type": "markdown",
   "id": "fff43b5f",
   "metadata": {},
   "source": [
    "# Q5"
   ]
  },
  {
   "cell_type": "markdown",
   "id": "ba4487bf",
   "metadata": {},
   "source": [
    "# primary key\n",
    "primary key generally focuses on the uniqueness of the table. It assures the value in the specific column is unique.\n",
    "# foreign key\n",
    "foreign key is generally used to build a relationship between the two tables."
   ]
  },
  {
   "cell_type": "markdown",
   "id": "6ae5d6be",
   "metadata": {},
   "source": [
    "# Q6"
   ]
  },
  {
   "cell_type": "code",
   "execution_count": null,
   "id": "d8c0dc2b",
   "metadata": {},
   "outputs": [],
   "source": [
    "# python code to connect MySQL to python.\n",
    "import mysql.connector as conn\n",
    "mydb = conn.connect(host = \"hostname\",user = \"username\",passwd = \"password\")\n",
    "cursor = mydb.cursor()"
   ]
  },
  {
   "cell_type": "markdown",
   "id": "8705763a",
   "metadata": {},
   "source": [
    "# cursor()\n",
    "cursor make it possible to define a result set (a set of data rows) and perform complex logic on a row by row basis."
   ]
  },
  {
   "cell_type": "markdown",
   "id": "92dc0738",
   "metadata": {},
   "source": [
    "# execute()\n",
    "The execute() command is used to execute a stored procedure."
   ]
  },
  {
   "cell_type": "markdown",
   "id": "bb161740",
   "metadata": {},
   "source": [
    "# Q7"
   ]
  },
  {
   "cell_type": "code",
   "execution_count": 17,
   "id": "868f2e32",
   "metadata": {},
   "outputs": [
    {
     "data": {
      "text/plain": [
       "[('RJ', 22, 15)]"
      ]
     },
     "execution_count": 17,
     "metadata": {},
     "output_type": "execute_result"
    }
   ],
   "source": [
    "# where\n",
    "cursor.execute(\"select * from DATABASE1.table1 where NAME = 'RJ'\")\n",
    "cursor.fetchall()"
   ]
  },
  {
   "cell_type": "code",
   "execution_count": 18,
   "id": "68fa17ab",
   "metadata": {},
   "outputs": [
    {
     "data": {
      "text/plain": [
       "[(2,)]"
      ]
     },
     "execution_count": 18,
     "metadata": {},
     "output_type": "execute_result"
    }
   ],
   "source": [
    "# group by\n",
    "cursor.execute(\"select count(*) from DATABASE1.table1 group by AGE\")\n",
    "cursor.fetchall()"
   ]
  },
  {
   "cell_type": "code",
   "execution_count": 19,
   "id": "291a9460",
   "metadata": {},
   "outputs": [
    {
     "data": {
      "text/plain": [
       "[(2,)]"
      ]
     },
     "execution_count": 19,
     "metadata": {},
     "output_type": "execute_result"
    }
   ],
   "source": [
    "# order by\n",
    "cursor.execute(\"select count(*) from DATABASE1.table1 order by AGE\")\n",
    "cursor.fetchall()"
   ]
  }
 ],
 "metadata": {
  "kernelspec": {
   "display_name": "Python 3",
   "language": "python",
   "name": "python3"
  },
  "language_info": {
   "codemirror_mode": {
    "name": "ipython",
    "version": 3
   },
   "file_extension": ".py",
   "mimetype": "text/x-python",
   "name": "python",
   "nbconvert_exporter": "python",
   "pygments_lexer": "ipython3",
   "version": "3.8.8"
  }
 },
 "nbformat": 4,
 "nbformat_minor": 5
}
