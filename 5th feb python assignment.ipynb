{
 "cells": [
  {
   "cell_type": "markdown",
   "id": "a433ae93",
   "metadata": {},
   "source": [
    "# Q1"
   ]
  },
  {
   "cell_type": "markdown",
   "id": "d9b90933",
   "metadata": {},
   "source": [
    "# class\n",
    "class is a blueprint or a code template for creating a new object."
   ]
  },
  {
   "cell_type": "markdown",
   "id": "e7a076b8",
   "metadata": {},
   "source": [
    "# object\n",
    "object is an instance of a class."
   ]
  },
  {
   "cell_type": "code",
   "execution_count": 5,
   "id": "411904fd",
   "metadata": {},
   "outputs": [
    {
     "name": "stdout",
     "output_type": "stream",
     "text": [
      "your full name: Md Jehad Hossain\n",
      "your phone number: 9090909090\n",
      "your email_id : jehadhossain788@gmail.com\n",
      "your age: 23\n",
      "        \n"
     ]
    }
   ],
   "source": [
    "# example for class.\n",
    "# here person_details is a class.\n",
    "\n",
    "class person_details:\n",
    "    def __init__(self,fullname,phone_number,email_id,age):\n",
    "        self.fullname = fullname\n",
    "        self.phone_number = phone_number\n",
    "        self.email_id = email_id\n",
    "        self.age = age\n",
    "    def details(self):\n",
    "        print(f\"\"\"your full name: {self.fullname}\n",
    "your phone number: {self.phone_number}\n",
    "your email_id : {self.email_id}\n",
    "your age: {self.age}\n",
    "        \"\"\")\n",
    "# example for object.\n",
    "# here jehad is a object for class person_details.\n",
    "jehad = person_details(\"Md Jehad Hossain\",9090909090,\"jehadhossain788@gmail.com\",23)\n",
    "jehad.details()"
   ]
  },
  {
   "cell_type": "markdown",
   "id": "97d98c10",
   "metadata": {},
   "source": [
    "# Q2"
   ]
  },
  {
   "cell_type": "markdown",
   "id": "8e813db4",
   "metadata": {},
   "source": [
    "The four pillars of oops : \n",
    "    1/ inheritance\n",
    "    2/ polymorphism\n",
    "    3/ encapsulation\n",
    "    4/ abstraction"
   ]
  },
  {
   "cell_type": "markdown",
   "id": "27c9cd54",
   "metadata": {},
   "source": [
    "# Q3"
   ]
  },
  {
   "cell_type": "markdown",
   "id": "19962549",
   "metadata": {},
   "source": [
    "__init__() function is used for initialize the object attributes with the class."
   ]
  },
  {
   "cell_type": "code",
   "execution_count": 23,
   "id": "675752ed",
   "metadata": {},
   "outputs": [
    {
     "data": {
      "text/plain": [
       "15"
      ]
     },
     "execution_count": 23,
     "metadata": {},
     "output_type": "execute_result"
    }
   ],
   "source": [
    "#example\n",
    "#here __init__ () method is used for initialize the object attributes.\n",
    "#__init__()  method is introducing the attribute value with class math_operation.\n",
    "#that's why we can use those values in every function under the class.\n",
    "class math_operation:\n",
    "    def __init__(self,num1,num2):\n",
    "        self.num1=num1\n",
    "        self.num2=num2\n",
    "    def plus(self):\n",
    "        return self.num1+self.num2\n",
    "    def minus(self):\n",
    "        self.num1-self.num2\n",
    "    def devision(self):\n",
    "        self.num1/self.num2\n",
    "    def multiplication(self):\n",
    "        return self.num1*self.num2\n",
    "a = math_operation(10,5)  \n",
    "a.plus()"
   ]
  },
  {
   "cell_type": "markdown",
   "id": "05559702",
   "metadata": {},
   "source": [
    "# Q4"
   ]
  },
  {
   "cell_type": "markdown",
   "id": "4c34db35",
   "metadata": {},
   "source": [
    "self is nothing but a pointer.it is used to represent the instance of the class.it work as a reference to the object.self is not a reserved keyword.we can use any other name here."
   ]
  },
  {
   "cell_type": "markdown",
   "id": "57cf28b8",
   "metadata": {},
   "source": [
    "# Q5"
   ]
  },
  {
   "cell_type": "markdown",
   "id": "12c432ec",
   "metadata": {},
   "source": [
    "Inheritance means define a class that inherits all the methods and properties from an another class."
   ]
  },
  {
   "cell_type": "code",
   "execution_count": 33,
   "id": "631b0384",
   "metadata": {},
   "outputs": [],
   "source": [
    "# EXAMPLE INHERITANCE\n",
    "class addition:\n",
    "    def __init__(self,a,b):\n",
    "        self.a = a\n",
    "        self.b = b\n",
    "    def add(self):\n",
    "        return self.a+self.b\n",
    "    \n",
    "class division:\n",
    "    def __init__(self,c,d):\n",
    "        self.c = c\n",
    "        self.d = d\n",
    "    def divide(self):\n",
    "        return a/b\n",
    "    \n",
    "# example for single inheritance.\n",
    "class single_inheritance(addition):\n",
    "    def substraction(self):\n",
    "        return self.a-self.b\n",
    "    \n",
    "# example for multiple inheritance.\n",
    "class multiple_inheritance(addition,division):\n",
    "    def multiplication(self):\n",
    "        return a*b\n",
    "    \n",
    "# example for multilevel inheritance.\n",
    "class multilevel_inheritance(single_inheritance):\n",
    "    pass\n",
    "\n",
    "# example for hierarchical inheritance.\n",
    "class hierarchical_inheritance1(addition):\n",
    "    pass\n",
    "\n",
    "class hierarchical_inheritance2(addition):\n",
    "    pass\n",
    "\n",
    "#example for hybrid inheritance.\n",
    "class hybrid_inheritance1(addition):\n",
    "    pass\n",
    "\n",
    "class hybrid_inheritance2(division):\n",
    "    pass\n",
    "\n",
    "class hybrid_inheritance3(hybrid_inheritance1,hybrid_inheritance2):\n",
    "    pass\n",
    "\n",
    "class hybrid_inheritance4(addition,hybrid_inheritance2):\n",
    "    pass"
   ]
  },
  {
   "cell_type": "code",
   "execution_count": null,
   "id": "94cb8d5a",
   "metadata": {},
   "outputs": [],
   "source": []
  },
  {
   "cell_type": "code",
   "execution_count": null,
   "id": "31b14c8c",
   "metadata": {},
   "outputs": [],
   "source": []
  },
  {
   "cell_type": "code",
   "execution_count": null,
   "id": "01ca0195",
   "metadata": {},
   "outputs": [],
   "source": []
  },
  {
   "cell_type": "code",
   "execution_count": null,
   "id": "34d745de",
   "metadata": {},
   "outputs": [],
   "source": []
  },
  {
   "cell_type": "code",
   "execution_count": 21,
   "id": "20f2cbda",
   "metadata": {},
   "outputs": [],
   "source": [
    "a = single_inheritance(2,1)"
   ]
  },
  {
   "cell_type": "code",
   "execution_count": 22,
   "id": "ab11e10e",
   "metadata": {},
   "outputs": [
    {
     "data": {
      "text/plain": [
       "1"
      ]
     },
     "execution_count": 22,
     "metadata": {},
     "output_type": "execute_result"
    }
   ],
   "source": [
    "a.substraction()"
   ]
  },
  {
   "cell_type": "code",
   "execution_count": 18,
   "id": "fb660592",
   "metadata": {},
   "outputs": [],
   "source": []
  },
  {
   "cell_type": "code",
   "execution_count": null,
   "id": "f1da8036",
   "metadata": {},
   "outputs": [],
   "source": []
  },
  {
   "cell_type": "code",
   "execution_count": null,
   "id": "2686a327",
   "metadata": {},
   "outputs": [],
   "source": []
  }
 ],
 "metadata": {
  "kernelspec": {
   "display_name": "Python 3",
   "language": "python",
   "name": "python3"
  },
  "language_info": {
   "codemirror_mode": {
    "name": "ipython",
    "version": 3
   },
   "file_extension": ".py",
   "mimetype": "text/x-python",
   "name": "python",
   "nbconvert_exporter": "python",
   "pygments_lexer": "ipython3",
   "version": "3.8.8"
  }
 },
 "nbformat": 4,
 "nbformat_minor": 5
}
