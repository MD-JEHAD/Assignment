{
 "cells": [
  {
   "cell_type": "markdown",
   "id": "77f867f0",
   "metadata": {},
   "source": [
    "# Q1"
   ]
  },
  {
   "cell_type": "code",
   "execution_count": 1,
   "id": "0a2054a8",
   "metadata": {},
   "outputs": [],
   "source": [
    "class vehicle:\n",
    "    def __init__(self,name_of_vehicle,max_speed,average_speed):\n",
    "        self.name_of_vehicle=name_of_vehicle\n",
    "        self.max_speed =max_speed\n",
    "        self.average_speed=average_speed"
   ]
  },
  {
   "cell_type": "markdown",
   "id": "7b4e46dd",
   "metadata": {},
   "source": [
    "# Q2"
   ]
  },
  {
   "cell_type": "code",
   "execution_count": 5,
   "id": "f45d11df",
   "metadata": {},
   "outputs": [],
   "source": [
    "class car(vehicle):\n",
    "    def seating_capacity(self,capacity):\n",
    "        return self.name_of_vehicle,capacity"
   ]
  },
  {
   "cell_type": "markdown",
   "id": "378dcd05",
   "metadata": {},
   "source": [
    "# Q3"
   ]
  },
  {
   "cell_type": "markdown",
   "id": "14e20a1d",
   "metadata": {},
   "source": [
    "when a class inherit from more than one class it is called multiple inheritance."
   ]
  },
  {
   "cell_type": "code",
   "execution_count": 7,
   "id": "4ce60ffa",
   "metadata": {},
   "outputs": [],
   "source": [
    "class introduction:\n",
    "    def name(self):\n",
    "        return\"my name is Md Jehad Hossain\"\n",
    "    def age(self):\n",
    "        return 23\n",
    "class qualification:\n",
    "    def study(self):\n",
    "        return \"I am currently studying in CSE\"\n",
    "    def skills(self):\n",
    "        return \"learning Data science at PWskills\"\n",
    "class my_details(introduction,qualification):\n",
    "    def future_plan(self):\n",
    "        return \"my future plan is to be a good Data Scientist\"\n",
    "    "
   ]
  },
  {
   "cell_type": "markdown",
   "id": "4dbb372d",
   "metadata": {},
   "source": [
    "# Q4"
   ]
  },
  {
   "cell_type": "markdown",
   "id": "1f4df510",
   "metadata": {},
   "source": [
    "Getter: These are the methods used in Object-Oriented Programming (OOPS) which helps to access the private attributes from a class.\n",
    "\n",
    "Setter: These are the methods used in OOPS feature which helps to set the value to private attributes in a class."
   ]
  },
  {
   "cell_type": "code",
   "execution_count": 6,
   "id": "5e232fb7",
   "metadata": {},
   "outputs": [],
   "source": [
    "class methods:\n",
    "    def __init__(self,variable):\n",
    "        self.__variable=variable\n",
    "    def getter_method(self):\n",
    "        return self.__variable\n",
    "    def setter_method(self,variable):\n",
    "        self.__variable=variable"
   ]
  },
  {
   "cell_type": "markdown",
   "id": "c7707801",
   "metadata": {},
   "source": [
    "# Q5"
   ]
  },
  {
   "cell_type": "markdown",
   "id": "7065f5bb",
   "metadata": {},
   "source": [
    "Method overriding is a feature of OOP where we can override a method in a child class which is allready define in a parent class or in a super class."
   ]
  },
  {
   "cell_type": "code",
   "execution_count": 8,
   "id": "5cc07291",
   "metadata": {},
   "outputs": [],
   "source": [
    "class parent_class:\n",
    "    def __init__(self,a,b):\n",
    "        self.a=a\n",
    "        self.b=b\n",
    "    def function(self):\n",
    "        print(\"This is a function from parent_class\")\n",
    "\n",
    "class child_class(parent_class):\n",
    "    def function(self):\n",
    "        print(\"This function is override in child_class\")"
   ]
  }
 ],
 "metadata": {
  "kernelspec": {
   "display_name": "Python 3",
   "language": "python",
   "name": "python3"
  },
  "language_info": {
   "codemirror_mode": {
    "name": "ipython",
    "version": 3
   },
   "file_extension": ".py",
   "mimetype": "text/x-python",
   "name": "python",
   "nbconvert_exporter": "python",
   "pygments_lexer": "ipython3",
   "version": "3.8.8"
  }
 },
 "nbformat": 4,
 "nbformat_minor": 5
}
