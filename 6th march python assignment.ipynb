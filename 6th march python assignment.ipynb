{
 "cells": [
  {
   "cell_type": "markdown",
   "id": "5d2e62b5-5108-47b8-82b3-73a4b699e1d9",
   "metadata": {},
   "source": [
    "# Q1"
   ]
  },
  {
   "cell_type": "markdown",
   "id": "e0628404-10d5-4264-9368-f5dc1e3e1bdb",
   "metadata": {},
   "source": [
    "statistics is the science of collecting , organizing and analyzing data."
   ]
  },
  {
   "cell_type": "markdown",
   "id": "f36ef0dd-322f-41cc-a332-56f3853decca",
   "metadata": {},
   "source": [
    "# Q2"
   ]
  },
  {
   "cell_type": "markdown",
   "id": "c700f25e-7818-4d89-a061-88e89f21c4a7",
   "metadata": {},
   "source": [
    "# 1 Descriptive Statistics:\n",
    "Descriptive statistics involve methods used to summarize and describe the main features of a dataset. These statistics provide a clear and concise summary of the data, helping to understand its characteristics. Examples of descriptive statistics include measures of central tendency (mean, median, mode) and measures of variability (standard deviation, range).\n",
    "\n",
    "Example: Suppose you have collected data on the heights of students in a school. You can use descriptive statistics to calculate the average height (mean), the most common height (mode), and the spread of heights (standard deviation). These descriptive statistics would provide a summary of the heights and help you understand the typical height and the variation among the students."
   ]
  },
  {
   "cell_type": "markdown",
   "id": "f32f2acf-43bd-43f1-a9fd-fc7433f4303b",
   "metadata": {},
   "source": [
    "# 2 Inferential Statistics:\n",
    "Inferential statistics involves making inferences and generalizations about a population based on sample data. These statistics allow us to draw conclusions beyond the observed data and make predictions or test hypotheses. Inferential statistics rely on probability theory and sampling techniques to estimate population parameters and assess the likelihood of certain outcomes.\n",
    "\n",
    "Example: Let's say you want to study the relationship between study time and exam scores among college students. You collect data on a sample of students and calculate the correlation between study time and exam scores. Using inferential statistics, you can then determine if the observed correlation is statistically significant, which would indicate a meaningful relationship between study time and exam scores in the population."
   ]
  },
  {
   "cell_type": "markdown",
   "id": "358416ba-5218-48c5-a5a7-13038d792b0a",
   "metadata": {},
   "source": [
    "# Q3"
   ]
  },
  {
   "cell_type": "markdown",
   "id": "13d4a7c6-8a26-4cf7-bd71-e1c91a3a7baf",
   "metadata": {},
   "source": [
    "# Quantitative data\n",
    "example : the hight of some student's 1.74,1.56.1,67,1.73 etc"
   ]
  },
  {
   "cell_type": "markdown",
   "id": "782c9a7f-663f-4862-8fa0-6db9bebf4ba5",
   "metadata": {},
   "source": [
    "# Qualitative data\n",
    "example: male or female."
   ]
  },
  {
   "cell_type": "markdown",
   "id": "6ede8e26-2886-4550-9ad9-5a07579cd94f",
   "metadata": {},
   "source": [
    "# Q4\n",
    "(i) Grading in exam: Qualitative (Nominal data)\n",
    "\n",
    "(ii) Colour of mangoes: Qualitative (Nominal data)\n",
    "\n",
    "(iii) Height data of a class: Quantitative (Interval data)\n",
    "\n",
    "(iv) Number of mangoes exported by a farm: Quantitative (Ratio data)"
   ]
  },
  {
   "cell_type": "markdown",
   "id": "9c9f7a31-54bb-4175-b270-eecec182678c",
   "metadata": {},
   "source": [
    "# Q5\n",
    "Levels of measurement, refer to the different ways in which variables can be categorized or measured. There are four commonly recognized levels of measurement: nominal, ordinal, interval, and ratio. Each level of measurement has different properties and allows for different types of statistical analysis.\n",
    "\n",
    "\n",
    "Nominal Level: Political affiliation (e.g., Democrat, Republican, Independent)\n",
    "\n",
    "Ordinal Level: Education level (e.g., high school diploma, bachelor's degree, master's degree)\n",
    "\n",
    "Interval Level: Temperature in Celsius or Fahrenheit\n",
    "\n",
    "Ratio Level: Height in centimeters"
   ]
  },
  {
   "cell_type": "markdown",
   "id": "a6f05782-4d47-4e36-bb47-fb3773ddc2e3",
   "metadata": {},
   "source": [
    "# Q6\n",
    "Understanding the level of measurement is crucial when analyzing data because it determines the appropriate statistical techniques that can be applied and the meaningful interpretations that can be made. The level of measurement guides the choice of statistical measures and tests that are suitable for a particular variable, ensuring accurate analysis and appropriate conclusions.\n",
    "\n",
    "Let's consider a research study examining the effectiveness of different treatment methods for a medical condition. The study involves measuring pain levels of patients before and after treatment using a numerical rating scale from 1 to 10.\n",
    "\n",
    "If we fail to recognize the level of measurement, we might mistakenly treat the data as interval or ratio when it is actually ordinal. We may assume that the difference between a pain rating of 5 and 6 is the same as the difference between 7 and 8, and perform inappropriate statistical calculations such as taking the mean of the pain ratings. However, the pain ratings are actually ordinal, as the intervals between the ratings may not be equal or quantifiable.\n",
    "\n",
    "By correctly understanding the level of measurement as ordinal, we can employ appropriate statistical analyses for ordinal data, such as nonparametric tests like the Wilcoxon signed-rank test or ordinal regression models. These methods take into account the ordinal nature of the data and provide valid inferences.\n",
    "\n",
    "On the other hand, if the pain ratings were measured on a ratio scale (e.g., a visual analog scale with a true zero point), different statistical techniques like t-tests or analysis of variance (ANOVA) could be used to analyze the data, as these methods are suitable for ratio data."
   ]
  },
  {
   "cell_type": "markdown",
   "id": "fdca831e-6b89-4369-a62a-9af65b509cd1",
   "metadata": {},
   "source": [
    "# Q7\n",
    "# Nominal Data: \n",
    "In nominal data, categories are mutually exclusive and there is no inherent order or ranking between them. Each category represents a distinct attribute or group, without any numerical significance or order.\n",
    "\n",
    "# Ordinal Data: \n",
    "In ordinal data, categories have a natural order or ranking. The categories can be ranked or ordered based on some criteria or attribute. The order of categories represents a relative position or preference, but the intervals between categories may not be equal."
   ]
  },
  {
   "cell_type": "markdown",
   "id": "9abe279f-ad11-40ea-84af-edec6cb7571e",
   "metadata": {},
   "source": [
    "# Q8\n",
    "Histogram. If the groups depicted in a bar chart are actually continuous numeric ranges, we can push the bars together to generate a histogram. Bar lengths in histograms typically correspond to counts of data points, and their patterns demonstrate the distribution of variables in your data."
   ]
  },
  {
   "cell_type": "markdown",
   "id": "013146d2-3b78-4d88-9f07-2eb61449e05e",
   "metadata": {},
   "source": [
    "# Q9\n",
    "# Descriptive Statistics:\n",
    "Descriptive statistics involves methods used to summarize and describe the main features of a dataset. It focuses on organizing, presenting, and summarizing data in a meaningful way. Descriptive statistics provide insights into the central tendency, variability, and distribution of the data, helping to understand its characteristics.\n",
    "\n",
    "Example: Suppose you have a dataset of the ages of 100 students in a school. Descriptive statistics would involve calculating measures such as the mean age, the median age, and the standard deviation. These statistics summarize the dataset, giving you an idea of the average age, the middle point of the age distribution, and the spread of ages.\n",
    "\n",
    "# Inferential Statistics:\n",
    "Inferential statistics involves making inferences and generalizations about a population based on sample data. It focuses on using sample data to draw conclusions or make predictions about a larger population. Inferential statistics rely on probability theory and sampling techniques to estimate population parameters and assess the likelihood of certain outcomes.\n",
    "\n",
    "Example: Suppose you want to investigate whether there is a significant difference in exam scores between two groups of students, a control group and an experimental group. You collect data from a sample of students in each group and use inferential statistics to analyze the data. Techniques such as hypothesis testing and confidence intervals can be used to determine if the observed differences are statistically significant and can be generalized to the larger population."
   ]
  },
  {
   "cell_type": "markdown",
   "id": "b4307d14-5984-411a-a89b-9e5aecc84ba4",
   "metadata": {},
   "source": [
    "# Q10\n",
    "Measures of Central Tendency:\n",
    "\n",
    "Mean: The mean, or average, is calculated by summing all the values in a dataset and dividing it by the total number of observations. It provides a measure of the typical or average value in the dataset.\n",
    "\n",
    "Example: If you have a dataset of exam scores (70, 80, 90, 75, 85), the mean would be calculated as (70 + 80 + 90 + 75 + 85) / 5 = 80. The mean of 80 represents the average exam score for the group.\n",
    "\n",
    "Median: The median is the middle value when the dataset is arranged in ascending or descending order. It divides the dataset into two equal halves, with 50% of the observations below and 50% above it. The median is less affected by extreme values compared to the mean and provides a measure of the central value.\n",
    "\n",
    "Example: If you have a dataset of ages (20, 25, 30, 35, 40), the median would be 30. It represents the age where half the individuals are younger and half are older.\n",
    "\n",
    "Mode: The mode is the value or values that appear most frequently in the dataset. It represents the most common observation(s) in the dataset.\n",
    "\n",
    "Example: In a dataset of eye colors (blue, green, brown, blue, green, blue), the mode would be blue as it appears most frequently.\n",
    "\n",
    "Measures of Variability:\n",
    "\n",
    "Range: The range is the difference between the maximum and minimum values in a dataset. It provides a measure of the spread or extent of variation in the data.\n",
    "\n",
    "Example: If you have a dataset of salaries (20,000, 30,000, 40,000, 50,000), the range would be 50,000 - 20,000 = 30,000. It indicates the difference between the highest and lowest salaries.\n",
    "\n",
    "Variance: Variance measures the average squared deviation from the mean. It quantifies the spread of data points around the mean. A larger variance indicates greater dispersion in the dataset.\n",
    "\n",
    "Example: In a dataset of test scores, the variance can be used to assess how much the scores deviate from the mean, providing an indication of the spread of scores.\n",
    "\n",
    "Standard Deviation: The standard deviation is the square root of the variance. It measures the average amount of deviation of data points from the mean. It provides a more interpretable measure of spread than the variance since it is in the same units as the original data.\n",
    "\n",
    "Example: If you have a dataset of heights, the standard deviation can be used to describe how much individual heights"
   ]
  },
  {
   "cell_type": "code",
   "execution_count": null,
   "id": "9fe4db6e-8621-42e1-90c6-e873ec5ea076",
   "metadata": {},
   "outputs": [],
   "source": []
  }
 ],
 "metadata": {
  "kernelspec": {
   "display_name": "Python 3 (ipykernel)",
   "language": "python",
   "name": "python3"
  },
  "language_info": {
   "codemirror_mode": {
    "name": "ipython",
    "version": 3
   },
   "file_extension": ".py",
   "mimetype": "text/x-python",
   "name": "python",
   "nbconvert_exporter": "python",
   "pygments_lexer": "ipython3",
   "version": "3.10.8"
  }
 },
 "nbformat": 4,
 "nbformat_minor": 5
}
