{
 "cells": [
  {
   "cell_type": "markdown",
   "id": "2e976142",
   "metadata": {},
   "source": [
    "## Q1"
   ]
  },
  {
   "cell_type": "markdown",
   "id": "58c3f2ba",
   "metadata": {},
   "source": [
    "# FOR LOOP\n",
    "A For Loop is used to execute a specific block of code when we know that how many times it should be executed.\n",
    "For example if we want to print all the eliment from a list that time we know that the loop should be executed how much eliment in the list that number of time.Here we can use for loop."
   ]
  },
  {
   "cell_type": "code",
   "execution_count": 5,
   "id": "b2f4173a",
   "metadata": {},
   "outputs": [
    {
     "name": "stdout",
     "output_type": "stream",
     "text": [
      "1\n",
      "2\n",
      "3\n",
      "4\n",
      "jehad\n",
      "pwskills\n",
      "datascience\n"
     ]
    }
   ],
   "source": [
    "#Example \"for loop\"\n",
    "l =[1,2,3,4,\"jehad\",\"pwskills\",\"datascience\"]\n",
    "for i in l:\n",
    "    print(i)"
   ]
  },
  {
   "cell_type": "markdown",
   "id": "cf22d584",
   "metadata": {},
   "source": [
    "# while loop\n",
    "A while Loop is used to execute a specific block of code an unknown number of times. Until a condition is met. For example, if we want to ask a user for a number between 1 and 10, we don't know how many times the user may enter a larger number, so we keep asking while the number is not between 1 and 10."
   ]
  },
  {
   "cell_type": "code",
   "execution_count": 6,
   "id": "73cb8b11",
   "metadata": {},
   "outputs": [
    {
     "name": "stdout",
     "output_type": "stream",
     "text": [
      "Enter number between 1 to 10:11\n",
      "Enter number between 1 to 10:0\n",
      "Enter number between 1 to 10:11\n",
      "Enter number between 1 to 10:12\n",
      "Enter number between 1 to 10:15\n",
      "Enter number between 1 to 10:10\n",
      "You have entered correct number\n"
     ]
    }
   ],
   "source": [
    "#EXAMPLE \"while loop\"\n",
    "while True:\n",
    "    number = int(input(\"Enter number between 1 to 10:\"))\n",
    "    if number<=10 and number>=1:\n",
    "        print(\"You have entered correct number\")\n",
    "        break\n",
    "    else:\n",
    "        continue"
   ]
  },
  {
   "cell_type": "markdown",
   "id": "a6e5dd36",
   "metadata": {},
   "source": [
    "# Q2"
   ]
  },
  {
   "cell_type": "code",
   "execution_count": 9,
   "id": "5b883d69",
   "metadata": {},
   "outputs": [
    {
     "name": "stdout",
     "output_type": "stream",
     "text": [
      "55\n"
     ]
    }
   ],
   "source": [
    "#Example for print the sum using \"for loop\"\n",
    "result = 0\n",
    "for i in range(1,11):\n",
    "    result+=i\n",
    "print(result)"
   ]
  },
  {
   "cell_type": "code",
   "execution_count": 13,
   "id": "bc4e8dfb",
   "metadata": {},
   "outputs": [
    {
     "name": "stdout",
     "output_type": "stream",
     "text": [
      "55\n"
     ]
    }
   ],
   "source": [
    "#Example for print the sum using \"while loop\"\n",
    "i=1\n",
    "result = 0\n",
    "while i<=10:\n",
    "    result+=i\n",
    "    i+=1\n",
    "print(result)"
   ]
  },
  {
   "cell_type": "code",
   "execution_count": 14,
   "id": "80633d50",
   "metadata": {},
   "outputs": [
    {
     "name": "stdout",
     "output_type": "stream",
     "text": [
      "3628800\n"
     ]
    }
   ],
   "source": [
    "#Example for print the product using \"for loop\"\n",
    "result = 1\n",
    "for i in range(1,11):\n",
    "    result*=i\n",
    "print(result)"
   ]
  },
  {
   "cell_type": "code",
   "execution_count": 11,
   "id": "06e53dc3",
   "metadata": {},
   "outputs": [
    {
     "name": "stdout",
     "output_type": "stream",
     "text": [
      "3628800\n"
     ]
    }
   ],
   "source": [
    "#Example for print the product using \"while loop\"\n",
    "i = 1\n",
    "result =1\n",
    "while i<=10:\n",
    "    result*=i\n",
    "    i+=1\n",
    "print(result)\n",
    "    "
   ]
  },
  {
   "cell_type": "markdown",
   "id": "d6cb6764",
   "metadata": {},
   "source": [
    "# Q3"
   ]
  },
  {
   "cell_type": "code",
   "execution_count": 66,
   "id": "bc37d81c",
   "metadata": {},
   "outputs": [
    {
     "name": "stdout",
     "output_type": "stream",
     "text": [
      "Enter the unit number:310\n",
      "Total electricity bill: 2250.0 RS\n"
     ]
    }
   ],
   "source": [
    "unit = float(input(\"Enter the unit number:\"))\n",
    "if unit>0:\n",
    "    if unit>300:\n",
    "        Extra=unit-300\n",
    "        bill=Extra*20\n",
    "        unit=unit-Extra\n",
    "        bill+=(100*10)\n",
    "        unit=200\n",
    "        bill+=(100*6)\n",
    "        unit=100\n",
    "        bill+=(100*4.5)\n",
    "    elif unit>200 and unit<=300:\n",
    "        Extra=unit-200\n",
    "        bill=Extra*10\n",
    "        unit=200\n",
    "        bill+=(100*6)\n",
    "        unit=100\n",
    "        bill+=(100*4.5)\n",
    "    elif unit>100 and unit<=200:\n",
    "        Extra=unit-100\n",
    "        bill=Extra*6\n",
    "        unit=100\n",
    "        bill+=(unit*4.5)\n",
    "    else:\n",
    "        bill=unit*4.5\n",
    "    print(f\"Total electricity bill: {bill} RS\")\n",
    "else:\n",
    "    print(\"unit can't be negative or zero\")"
   ]
  },
  {
   "cell_type": "markdown",
   "id": "bd284a6e",
   "metadata": {},
   "source": [
    "# Q4"
   ]
  },
  {
   "cell_type": "code",
   "execution_count": 63,
   "id": "d2a5b67c",
   "metadata": {},
   "outputs": [
    {
     "name": "stdout",
     "output_type": "stream",
     "text": [
      "[8, 64, 216, 512, 1000, 1728, 2744, 4096, 5832, 8000, 10648, 13824, 17576, 21952, 27000, 32768, 39304, 46656, 54872, 64000, 74088, 85184, 97336, 110592, 125000, 140608, 157464, 175616, 195112, 216000, 238328, 262144, 287496, 314432, 343000, 373248, 405224, 438976, 474552, 512000, 551368, 592704, 636056, 681472, 729000, 778688, 830584, 884736, 941192, 1000000]\n"
     ]
    }
   ],
   "source": [
    "l =[]\n",
    "i=1\n",
    "while i<=100:\n",
    "    l.append(i)\n",
    "    i+=1\n",
    "L=[]\n",
    "for j in l:\n",
    "    if (j**3)%4==0 or (i**3)%5==0:\n",
    "        L.append(j**3)\n",
    "print(L)\n",
    "        "
   ]
  },
  {
   "cell_type": "markdown",
   "id": "884c4996",
   "metadata": {},
   "source": [
    "# Q5"
   ]
  },
  {
   "cell_type": "code",
   "execution_count": 65,
   "id": "3b51a992",
   "metadata": {},
   "outputs": [
    {
     "name": "stdout",
     "output_type": "stream",
     "text": [
      "12\n"
     ]
    }
   ],
   "source": [
    "string = \"I want to become a data scientist\"\n",
    "count = 0\n",
    "for i in string.lower():\n",
    "    if i==\"a\" or i==\"e\" or i==\"i\" or i==\"o\" or i==\"u\":\n",
    "        count+=1\n",
    "print(count)\n",
    "        "
   ]
  },
  {
   "cell_type": "code",
   "execution_count": null,
   "id": "280ed5b3",
   "metadata": {},
   "outputs": [],
   "source": []
  }
 ],
 "metadata": {
  "kernelspec": {
   "display_name": "Python 3",
   "language": "python",
   "name": "python3"
  },
  "language_info": {
   "codemirror_mode": {
    "name": "ipython",
    "version": 3
   },
   "file_extension": ".py",
   "mimetype": "text/x-python",
   "name": "python",
   "nbconvert_exporter": "python",
   "pygments_lexer": "ipython3",
   "version": "3.8.8"
  }
 },
 "nbformat": 4,
 "nbformat_minor": 5
}
