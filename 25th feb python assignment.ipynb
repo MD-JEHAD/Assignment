{
 "cells": [
  {
   "cell_type": "code",
   "execution_count": 14,
   "id": "a044897e-b19c-4c78-8848-3f07b00574ea",
   "metadata": {},
   "outputs": [],
   "source": [
    "import pandas as pd\n",
    "course_name = ['Data Science', 'Machine Learning', 'Big Data', 'Data Engineer']\n",
    "duration = [2,3,6,4]\n",
    "df = pd.DataFrame(data = {'course_name' : course_name, 'duration' : duration})"
   ]
  },
  {
   "cell_type": "markdown",
   "id": "c7922f1d-ef7f-4d5f-8131-45869eeb5e76",
   "metadata": {},
   "source": [
    "# Q1"
   ]
  },
  {
   "cell_type": "code",
   "execution_count": 15,
   "id": "38606332-2456-4366-98ad-74b07316ad2c",
   "metadata": {},
   "outputs": [
    {
     "name": "stdout",
     "output_type": "stream",
     "text": [
      "Machine Learning\n",
      "3\n"
     ]
    }
   ],
   "source": [
    "for i in df.columns:\n",
    "    print(df[i][1])"
   ]
  },
  {
   "cell_type": "code",
   "execution_count": 16,
   "id": "f6273507-eef0-4f07-a216-c6274ae4fa9e",
   "metadata": {},
   "outputs": [
    {
     "data": {
      "text/plain": [
       "course_name    Machine Learning\n",
       "duration                      3\n",
       "Name: 1, dtype: object"
      ]
     },
     "execution_count": 16,
     "metadata": {},
     "output_type": "execute_result"
    }
   ],
   "source": [
    "df.loc[1]"
   ]
  },
  {
   "cell_type": "markdown",
   "id": "dbcd99d6-3490-4d22-bad7-0732f2223164",
   "metadata": {},
   "source": [
    "# Q2"
   ]
  },
  {
   "cell_type": "markdown",
   "id": "0d5094f2-f276-4108-998f-2297c3459aaf",
   "metadata": {},
   "source": [
    "# loc\n",
    "loc is label-based, which means that you have to specify rows and columns based on their row and column labels.\n",
    "# iloc\n",
    "iloc is integer position-based, so you have to specify rows and columns by their integer position values."
   ]
  },
  {
   "cell_type": "markdown",
   "id": "02c4f64e-952a-4e14-9bba-7441abc039cd",
   "metadata": {},
   "source": [
    "# Q3"
   ]
  },
  {
   "cell_type": "code",
   "execution_count": 17,
   "id": "81d418c3-9dc5-4b9d-b604-7639142b09f9",
   "metadata": {},
   "outputs": [],
   "source": [
    "reindex = [3,0,1,2]\n",
    "new_df=df.reindex(index=reindex)"
   ]
  },
  {
   "cell_type": "code",
   "execution_count": 18,
   "id": "2a39e362-ca73-43b5-a766-9660a63408e6",
   "metadata": {},
   "outputs": [
    {
     "data": {
      "text/plain": [
       "course_name    Big Data\n",
       "duration              6\n",
       "Name: 2, dtype: object"
      ]
     },
     "execution_count": 18,
     "metadata": {},
     "output_type": "execute_result"
    }
   ],
   "source": [
    "new_df.loc[2]"
   ]
  },
  {
   "cell_type": "code",
   "execution_count": 19,
   "id": "0ea086e2-9b29-4e70-a126-080ce7a77e6a",
   "metadata": {},
   "outputs": [
    {
     "data": {
      "text/plain": [
       "course_name    Machine Learning\n",
       "duration                      3\n",
       "Name: 1, dtype: object"
      ]
     },
     "execution_count": 19,
     "metadata": {},
     "output_type": "execute_result"
    }
   ],
   "source": [
    "new_df.iloc[2]"
   ]
  },
  {
   "cell_type": "markdown",
   "id": "4fd21353-8568-4fd1-bb4a-3c9a271be319",
   "metadata": {},
   "source": [
    "# loc\n",
    "Here loc is returning the row where row index name is 2.\n",
    "# iloc\n",
    "and iloc is returning the row where imaginary index is 2."
   ]
  },
  {
   "cell_type": "code",
   "execution_count": 20,
   "id": "b9a2ad48-1c9e-4339-b088-d814d3be80ae",
   "metadata": {},
   "outputs": [],
   "source": [
    "import pandas as pd\n",
    "import numpy as np\n",
    "columns = ['column_1', 'column_2', 'column_3', 'column_4', 'column_5', 'column_6']\n",
    "indices = [1,2,3,4,5,6]\n",
    "#Creating a dataframe:\n",
    "df1 = pd.DataFrame(np.random.rand(6,6), columns = columns, index = indices)"
   ]
  },
  {
   "cell_type": "markdown",
   "id": "05ffc135-9a7f-41a3-a164-8dcd342b9ac4",
   "metadata": {},
   "source": [
    "# Q4"
   ]
  },
  {
   "cell_type": "code",
   "execution_count": 21,
   "id": "78a572e9-8749-4ec1-aa6a-88e7db0a40e8",
   "metadata": {},
   "outputs": [
    {
     "data": {
      "text/plain": [
       "column_1    0.604632\n",
       "column_2    0.394672\n",
       "column_3    0.450522\n",
       "column_4    0.699889\n",
       "column_5    0.451412\n",
       "column_6    0.658933\n",
       "dtype: float64"
      ]
     },
     "execution_count": 21,
     "metadata": {},
     "output_type": "execute_result"
    }
   ],
   "source": [
    "# i\n",
    "df1.mean()"
   ]
  },
  {
   "cell_type": "code",
   "execution_count": 22,
   "id": "161617e6-261e-489f-95ec-ee62866c8b6f",
   "metadata": {},
   "outputs": [
    {
     "data": {
      "text/plain": [
       "0.2382898943757429"
      ]
     },
     "execution_count": 22,
     "metadata": {},
     "output_type": "execute_result"
    }
   ],
   "source": [
    "# ii\n",
    "df1['column_2'].std()"
   ]
  },
  {
   "cell_type": "markdown",
   "id": "b2753170-3bd2-471d-835e-60799a1cf47f",
   "metadata": {},
   "source": [
    "# Q5"
   ]
  },
  {
   "cell_type": "code",
   "execution_count": 23,
   "id": "f6d1a7d3-162a-45be-b754-e0baf135a4f9",
   "metadata": {},
   "outputs": [
    {
     "name": "stdout",
     "output_type": "stream",
     "text": [
      "unsupported operand type(s) for +: 'float' and 'str'\n"
     ]
    }
   ],
   "source": [
    "try:\n",
    "    df1.loc[2,'column_2'] = 'Jehad'\n",
    "    df1['column_2'].mean()\n",
    "except Exception as e:\n",
    "    print(e)"
   ]
  },
  {
   "cell_type": "markdown",
   "id": "68ec0abe-719b-4469-8be2-ada58f54a2f0",
   "metadata": {},
   "source": [
    "we can't get the mean of column_2 because there's a string value  in column_2's second row.and we can't add or divide string value with float value.that's why it throwing error."
   ]
  },
  {
   "cell_type": "markdown",
   "id": "7660e528-3555-4072-8cf0-2c33e664f2cc",
   "metadata": {},
   "source": [
    "# Q6"
   ]
  },
  {
   "cell_type": "markdown",
   "id": "50424d45-7805-4087-8a1e-c62354842a35",
   "metadata": {},
   "source": [
    "# window\n",
    "Pandas Window functions are functions where the input values are taken from a “window” of one or more rows in a series or a table and calculation is performed over them.\n",
    "# types of window function\n",
    "1, Rolling window.\n",
    "\n",
    "2, Weighted window.\n",
    "\n",
    "3, Expanding window.\n",
    "\n",
    "4, Exponentially weighted window.\n"
   ]
  },
  {
   "cell_type": "markdown",
   "id": "27522f57-5a6f-48db-9c43-498c6d863897",
   "metadata": {},
   "source": [
    "# Q7"
   ]
  },
  {
   "cell_type": "code",
   "execution_count": 24,
   "id": "fa7c9810-83bc-476c-a305-1fb2ec279b94",
   "metadata": {},
   "outputs": [
    {
     "name": "stdout",
     "output_type": "stream",
     "text": [
      "2023/59\n"
     ]
    }
   ],
   "source": [
    "print(pd.to_datetime(\"today\").strftime(\"%Y/%M\"))"
   ]
  },
  {
   "cell_type": "markdown",
   "id": "d8d06c9b-9adf-46fa-8e25-51647834ac8e",
   "metadata": {},
   "source": [
    "# Q8\n"
   ]
  },
  {
   "cell_type": "code",
   "execution_count": 13,
   "id": "f96044b0-58a7-4604-82ab-1f5191a62dab",
   "metadata": {},
   "outputs": [
    {
     "name": "stdin",
     "output_type": "stream",
     "text": [
      "Enter the first date:  2023/02/23\n",
      "Enter the second date:  2023/03/24\n"
     ]
    },
    {
     "name": "stdout",
     "output_type": "stream",
     "text": [
      "29 days 00:00:00\n"
     ]
    }
   ],
   "source": [
    "first_date =pd.to_datetime(input(\"Enter the first date: \"))\n",
    "second_date =pd.to_datetime(input(\"Enter the second date: \"))\n",
    "result = second_date-first_date\n",
    "print(result)"
   ]
  }
 ],
 "metadata": {
  "kernelspec": {
   "display_name": "Python 3 (ipykernel)",
   "language": "python",
   "name": "python3"
  },
  "language_info": {
   "codemirror_mode": {
    "name": "ipython",
    "version": 3
   },
   "file_extension": ".py",
   "mimetype": "text/x-python",
   "name": "python",
   "nbconvert_exporter": "python",
   "pygments_lexer": "ipython3",
   "version": "3.10.8"
  }
 },
 "nbformat": 4,
 "nbformat_minor": 5
}
