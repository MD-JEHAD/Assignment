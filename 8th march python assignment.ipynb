{
 "cells": [
  {
   "cell_type": "markdown",
   "id": "b644bf68-31d5-4369-916d-0aa2a19879eb",
   "metadata": {},
   "source": [
    "# Q1\n",
    "The Probability Density Function (PDF) is a concept used in probability theory and statistics to describe the likelihood of a continuous random variable taking on a particular value within a given range. The PDF is denoted by f(x) and provides a mathematical representation of the relative likelihood of different outcomes."
   ]
  },
  {
   "cell_type": "markdown",
   "id": "385b2fe5-fd0b-4cb8-9244-8c29a601f497",
   "metadata": {},
   "source": [
    "# Q2\n",
    "Types of Probability distribution:\n",
    "\n",
    "1/ normal/goussian distribution\n",
    "\n",
    "2/ barnouli distribution\n",
    "\n",
    "3/ uniform distribution\n",
    " \n",
    "4/ poisson distribution\n",
    "\n",
    "5/ log normal distribution\n",
    "\n",
    "6/ binomial distribution"
   ]
  },
  {
   "cell_type": "markdown",
   "id": "834e519f-4ef0-44d0-8618-490bab975e9d",
   "metadata": {},
   "source": [
    "# Q3"
   ]
  },
  {
   "cell_type": "code",
   "execution_count": 4,
   "id": "58b18934-a270-4b58-8ea0-d00d8f38fced",
   "metadata": {},
   "outputs": [],
   "source": [
    "import math\n",
    "def normal_pdf(x, mean, std_dev):\n",
    "    exponent = -((x - mean) ** 2) / (2 * std_dev ** 2)\n",
    "    coefficient = 1 / (std_dev * math.sqrt(2 * math.pi))\n",
    "    pdf = coefficient * math.exp(exponent)\n",
    "    return pdf"
   ]
  },
  {
   "cell_type": "markdown",
   "id": "51759379-ba19-4a03-b202-6a6cedcf8601",
   "metadata": {},
   "source": [
    "# Q4"
   ]
  },
  {
   "cell_type": "markdown",
   "id": "65e9e3f6-8e7c-42ae-9396-3c29d702ece4",
   "metadata": {},
   "source": [
    "The binomial distribution has several properties:\n",
    "\n",
    "1/ n number of trials\n",
    "\n",
    "2/ 2 possible outcomes: seccess and failure\n",
    "\n",
    "3/ discreet probability distribution\n",
    "\n",
    "Examples of events where the binomial distribution can be applied include:\n",
    "\n",
    "Coin Flipping: Consider a scenario where you flip a fair coin 10 times and want to determine the probability of obtaining exactly 7 heads. Each flip can be considered as a trial with two possible outcomes (heads or tails). The number of heads obtained in 10 trials can be modeled using a binomial distribution.\n",
    "\n",
    "Election Outcomes: Suppose you are analyzing an election in which there are two candidates, A and B. You want to calculate the probability of candidate A winning exactly 4 out of 7 randomly selected precincts. Each precinct can be seen as an independent trial with two possible outcomes (candidate A wins or loses). The binomial distribution can be used to model the number of wins for candidate A in this scenario."
   ]
  },
  {
   "cell_type": "markdown",
   "id": "f1b02199-de9d-4662-9b43-4b3c8c8536f1",
   "metadata": {},
   "source": [
    "# Q5"
   ]
  },
  {
   "cell_type": "code",
   "execution_count": 10,
   "id": "037a200a-d10f-4d32-b155-98232a60a5b2",
   "metadata": {},
   "outputs": [
    {
     "data": {
      "image/png": "[encoded data removed]",
      "text/plain": [
       "<Figure size 640x480 with 1 Axes>"
      ]
     },
     "metadata": {},
     "output_type": "display_data"
    }
   ],
   "source": [
    "import numpy as np\n",
    "import matplotlib.pyplot as plt\n",
    "n = 1000 \n",
    "p = 0.4\n",
    "sample = np.random.binomial(n, p, size=1000)\n",
    "\n",
    "plt.hist(sample, bins=20, edgecolor='black')\n",
    "plt.xlabel('Number of Successes')\n",
    "plt.ylabel('Frequency')\n",
    "plt.title('Binomial Distribution (n=1000, p=0.4)')\n",
    "plt.show()\n",
    "\n"
   ]
  },
  {
   "cell_type": "markdown",
   "id": "4f917361-6813-4f93-b4cb-e3f1c7989dc8",
   "metadata": {},
   "source": [
    "# Q6"
   ]
  },
  {
   "cell_type": "code",
   "execution_count": 1,
   "id": "d9c32afb-5433-4025-86e9-e1b38193e5c1",
   "metadata": {},
   "outputs": [],
   "source": [
    "import math\n",
    "def poisson_cdf(mean, point):\n",
    "    if mean <= 0 or point < 0:\n",
    "        raise ValueError(\"Mean must be positive and point must be non-negative\")\n",
    "    cdf = 0.0\n",
    "    for k in range(point + 1):\n",
    "        cdf += (math.exp(-mean) * (mean ** k)) / math.factorial(k)\n",
    "    return cdf"
   ]
  },
  {
   "cell_type": "markdown",
   "id": "3fbbe908-b1ef-4ebe-b958-2f9db377d362",
   "metadata": {},
   "source": [
    "# Q7\n",
    "The binomial distribution is used to model the number of successes in a fixed number of independent trials, while the Poisson distribution is used to model the number of events occurring in a fixed interval when the events are rare and have a known average rate of occurrence."
   ]
  },
  {
   "cell_type": "markdown",
   "id": "e49c3718-6524-4432-930f-3e4e946cede4",
   "metadata": {},
   "source": [
    "# Q8"
   ]
  },
  {
   "cell_type": "code",
   "execution_count": 3,
   "id": "916f63a1-7277-487f-87f4-6f6b185add44",
   "metadata": {},
   "outputs": [
    {
     "name": "stdout",
     "output_type": "stream",
     "text": [
      "mean: 5.033\n",
      "variance: 5.225911\n"
     ]
    }
   ],
   "source": [
    "import math\n",
    "import numpy as np\n",
    "mean = 5\n",
    "size = 1000\n",
    "sample = np.random.poisson(mean,size)\n",
    "sample_mean = np.mean(sample)\n",
    "sample_variance = np.var(sample)\n",
    "print(f\"mean: {sample_mean}\")\n",
    "print(f\"variance: {sample_variance}\")"
   ]
  },
  {
   "cell_type": "markdown",
   "id": "841f1df0-a52e-4fc5-9fc1-5c20f2001dd4",
   "metadata": {},
   "source": [
    "# Q9"
   ]
  },
  {
   "cell_type": "markdown",
   "id": "6c0ac37e-9fcd-4f46-a2b1-07ed757cdf4a",
   "metadata": {},
   "source": [
    "# Binomial Distribution:\n",
    "In a binomial distribution, the mean (μ) is equal to the product of the number of trials (n) and the probability of success (p), while the variance (σ^2) is equal to the product of the number of trials, the probability of success, and the probability of failure (q = 1 - p):\n",
    "\n",
    "Mean (μ) = n * p\n",
    "Variance (σ^2) = n * p * q\n",
    "\n",
    "The relationship between the mean and variance in a binomial distribution is linear. As the number of trials or the probability of success increases, both the mean and variance increase. The spread of the distribution becomes wider as the variance increases.\n",
    "\n",
    "# Poisson Distribution:\n",
    "In a Poisson distribution, the mean (λ) and variance (σ^2) are both equal to the average rate of events occurring in a given interval:\n",
    "\n",
    "Mean (λ) = Variance (σ^2) = λ\n",
    "\n",
    "In a Poisson distribution, the mean and variance are equal. This relationship indicates that the spread of the distribution is determined solely by the mean. As the mean increases, the distribution becomes wider, indicating a higher likelihood of observing larger values."
   ]
  },
  {
   "cell_type": "markdown",
   "id": "951e41ed-e82e-47ad-8542-61fa1865ff0a",
   "metadata": {},
   "source": [
    "# Q10"
   ]
  },
  {
   "cell_type": "code",
   "execution_count": null,
   "id": "2338f2c8-52dc-42e4-8c89-1f63df41cf17",
   "metadata": {},
   "outputs": [],
   "source": []
  }
 ],
 "metadata": {
  "kernelspec": {
   "display_name": "Python 3 (ipykernel)",
   "language": "python",
   "name": "python3"
  },
  "language_info": {
   "codemirror_mode": {
    "name": "ipython",
    "version": 3
   },
   "file_extension": ".py",
   "mimetype": "text/x-python",
   "name": "python",
   "nbconvert_exporter": "python",
   "pygments_lexer": "ipython3",
   "version": "3.10.8"
  }
 },
 "nbformat": 4,
 "nbformat_minor": 5
}
