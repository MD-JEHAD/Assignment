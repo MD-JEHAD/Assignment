{
 "cells": [
  {
   "cell_type": "markdown",
   "id": "e0077ad5-ae8d-4231-918a-1050f349345e",
   "metadata": {},
   "source": [
    "# Q1"
   ]
  },
  {
   "cell_type": "markdown",
   "id": "5de88a1f-6f15-4eb5-825d-bb52937cbd40",
   "metadata": {},
   "source": [
    "Web scraping refers to the extraction of data from a website.\n",
    "\n",
    "web scraping is used to scrap or extract data from a website.\n",
    "\n",
    "Web Scraping can be used to periodically extract data of products from various e-commerce websites like Amazon, eBay, Google Shopping etc."
   ]
  },
  {
   "cell_type": "markdown",
   "id": "ed1a666a-66b5-4e26-a893-22e66904078e",
   "metadata": {},
   "source": [
    "# Q2"
   ]
  },
  {
   "cell_type": "markdown",
   "id": "ebc9de15-e7a6-44fd-b60f-63942416b5d5",
   "metadata": {},
   "source": [
    "urlopen()\n",
    "\n",
    "read()\n",
    "\n",
    "BeautifulSoup()\n",
    "\n",
    "find_all()\n",
    "\n",
    "get()\n",
    "\n",
    "etc.These are the methods used for web scrapping."
   ]
  },
  {
   "cell_type": "markdown",
   "id": "d6697cc1-b52f-4c70-a9cc-91495b173548",
   "metadata": {},
   "source": [
    "# Q3"
   ]
  },
  {
   "cell_type": "markdown",
   "id": "bd66f06f-47a0-44bf-81d3-fc7e270a5424",
   "metadata": {},
   "source": [
    "Beautiful Soup is a Python package for parsing HTML and XML documents.\n",
    "\n",
    "It is used for pulling data out of HTML and XML files."
   ]
  },
  {
   "cell_type": "markdown",
   "id": "0d9e4a21-c75d-4cdb-94fd-cbd601780d1d",
   "metadata": {},
   "source": [
    "# Q4"
   ]
  },
  {
   "cell_type": "markdown",
   "id": "387002ea-aa43-4b32-bb37-ff03a0cee7cc",
   "metadata": {},
   "source": [
    "flask is used to create powerful backend web applications which can handle data quickly."
   ]
  },
  {
   "cell_type": "markdown",
   "id": "aea45b62-cc0b-46c5-93be-6ff362fb86bd",
   "metadata": {},
   "source": [
    "# Q5"
   ]
  },
  {
   "cell_type": "markdown",
   "id": "367c4f83-735d-4e36-8e01-87977c5f1e0a",
   "metadata": {},
   "source": [
    "The names of AWS services used in this project :-\n",
    "# code pipeline\n",
    "AWS CodePipeline is used to get accessed of code from github.\n",
    "# Elastic beanstack\n",
    "Elastic Beanstack is used for deploying and scaling web applications and services."
   ]
  },
  {
   "cell_type": "code",
   "execution_count": null,
   "id": "ea98c00a-f331-48f5-8b9a-cd22387a3b45",
   "metadata": {},
   "outputs": [],
   "source": []
  }
 ],
 "metadata": {
  "kernelspec": {
   "display_name": "Python 3 (ipykernel)",
   "language": "python",
   "name": "python3"
  },
  "language_info": {
   "codemirror_mode": {
    "name": "ipython",
    "version": 3
   },
   "file_extension": ".py",
   "mimetype": "text/x-python",
   "name": "python",
   "nbconvert_exporter": "python",
   "pygments_lexer": "ipython3",
   "version": "3.10.8"
  }
 },
 "nbformat": 4,
 "nbformat_minor": 5
}
