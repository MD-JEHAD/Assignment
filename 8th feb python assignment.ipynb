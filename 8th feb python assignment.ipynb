{
 "cells": [
  {
   "cell_type": "markdown",
   "id": "c514a393",
   "metadata": {},
   "source": [
    "# Q1"
   ]
  },
  {
   "cell_type": "markdown",
   "id": "a99e17ec",
   "metadata": {},
   "source": [
    "Abstraction is defined as a process of handling complexity by hiding unnecessary information from the user"
   ]
  },
  {
   "cell_type": "markdown",
   "id": "93b451dc",
   "metadata": {},
   "source": [
    "while visiting and reading blogs on the GreatLearning we tend to click on various links and perform various functions unknowingly what is happening in the background. That is exactly the abstraction that works in the OOP."
   ]
  },
  {
   "cell_type": "markdown",
   "id": "499c52f9",
   "metadata": {},
   "source": [
    "# Q2"
   ]
  },
  {
   "cell_type": "markdown",
   "id": "7628c818",
   "metadata": {},
   "source": [
    "Abstraction is a design level process and it is used to reduce the complexity at the designing stage of a project. \n",
    "\n",
    "Encapsulation is an implementation level process, and it is used to provide privacy and maintain control over the transparency of data at the implementation stage of a project.\n",
    "\n",
    "Abstraction is outer layout in terms of design. For Example: - Outer Look of a iPhone, like it has a display screen. Encapsulation is inner layout in terms of implementation."
   ]
  },
  {
   "cell_type": "markdown",
   "id": "4e35c257",
   "metadata": {},
   "source": [
    "# Q3"
   ]
  },
  {
   "cell_type": "markdown",
   "id": "afde6f32",
   "metadata": {},
   "source": [
    "The abc module in Python library provides the infrastructure for defining custom abstract base classes.\n",
    "\n",
    "it is used for defining custom abstract base classes."
   ]
  },
  {
   "cell_type": "markdown",
   "id": "ac48e7de",
   "metadata": {},
   "source": [
    "# Q4"
   ]
  },
  {
   "cell_type": "markdown",
   "id": "2cc54760",
   "metadata": {},
   "source": [
    "we can achieved data abstraction through creating abstract classes and inheriting them later."
   ]
  },
  {
   "cell_type": "markdown",
   "id": "c32345ca",
   "metadata": {},
   "source": [
    "# Q5"
   ]
  },
  {
   "cell_type": "markdown",
   "id": "3c4f2d4f",
   "metadata": {},
   "source": [
    "we can't create an instance of an abstract class because abstract classes cannot be instantiated."
   ]
  }
 ],
 "metadata": {
  "kernelspec": {
   "display_name": "Python 3",
   "language": "python",
   "name": "python3"
  },
  "language_info": {
   "codemirror_mode": {
    "name": "ipython",
    "version": 3
   },
   "file_extension": ".py",
   "mimetype": "text/x-python",
   "name": "python",
   "nbconvert_exporter": "python",
   "pygments_lexer": "ipython3",
   "version": "3.8.8"
  }
 },
 "nbformat": 4,
 "nbformat_minor": 5
}
