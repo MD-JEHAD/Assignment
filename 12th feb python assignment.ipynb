{
 "cells": [
  {
   "cell_type": "markdown",
   "id": "ab70e9bc-ff60-4c56-bbf5-6b6e9976e9db",
   "metadata": {},
   "source": [
    "# Q1"
   ]
  },
  {
   "cell_type": "markdown",
   "id": "521ece16-e036-453f-ad48-4d82dfc14fad",
   "metadata": {},
   "source": [
    "Exception is an error that happens during the execution of a program.Exception is a super class.there are so many error's under exception class and syntax eror is a subclass or eror."
   ]
  },
  {
   "cell_type": "markdown",
   "id": "163ac3e3-5b61-4b53-bc91-e554dc26afd8",
   "metadata": {},
   "source": [
    "# Q2"
   ]
  },
  {
   "cell_type": "markdown",
   "id": "f3b473f1-ea71-46a2-8242-084d3e45931f",
   "metadata": {},
   "source": [
    "When a Exception is occured and not handled the program terminates abruptly and and stop executing the next lines."
   ]
  },
  {
   "cell_type": "code",
   "execution_count": 6,
   "id": "0f859151-55be-4868-ac02-ebcb34efa610",
   "metadata": {},
   "outputs": [
    {
     "ename": "ZeroDivisionError",
     "evalue": "division by zero",
     "output_type": "error",
     "traceback": [
      "\u001b[0;31m---------------------------------------------------------------------------\u001b[0m",
      "\u001b[0;31mZeroDivisionError\u001b[0m                         Traceback (most recent call last)",
      "Cell \u001b[0;32mIn[6], line 4\u001b[0m\n\u001b[1;32m      2\u001b[0m a \u001b[38;5;241m=\u001b[39m \u001b[38;5;241m10\u001b[39m\n\u001b[1;32m      3\u001b[0m b \u001b[38;5;241m=\u001b[39m \u001b[38;5;241m0\u001b[39m\n\u001b[0;32m----> 4\u001b[0m result \u001b[38;5;241m=\u001b[39m \u001b[43ma\u001b[49m\u001b[38;5;241;43m/\u001b[39;49m\u001b[43mb\u001b[49m\n\u001b[1;32m      5\u001b[0m \u001b[38;5;28mprint\u001b[39m(\u001b[38;5;124m\"\u001b[39m\u001b[38;5;124mThis line must need to execute\u001b[39m\u001b[38;5;124m\"\u001b[39m)\n\u001b[1;32m      6\u001b[0m \u001b[38;5;66;03m# EXCEPTION occured in line 4 and didn't handled it thats why line 5 is not executing\u001b[39;00m\n",
      "\u001b[0;31mZeroDivisionError\u001b[0m: division by zero"
     ]
    }
   ],
   "source": [
    "# when EXCEPTION didn't handled\n",
    "a = 10\n",
    "b = 0\n",
    "result = a/b\n",
    "print(\"This line must need to execute\")\n",
    "# EXCEPTION occured in line 4 and didn't handled it thats why line 5 is not executing"
   ]
  },
  {
   "cell_type": "code",
   "execution_count": 8,
   "id": "38169c5e-5d27-4b18-a24e-170f1a642fcb",
   "metadata": {},
   "outputs": [
    {
     "name": "stdout",
     "output_type": "stream",
     "text": [
      "division by zero\n",
      "This line must need to execute\n"
     ]
    }
   ],
   "source": [
    "# when EXCEPTION handled\n",
    "try :\n",
    "    a = 10\n",
    "    b = 0\n",
    "    result = a/b\n",
    "except Exception as e:\n",
    "    print(e)\n",
    "    print(\"This line must need to execute\")\n",
    "    # EXCEPTION occured in line 5 and handled it thats why it keep executing the next lines "
   ]
  },
  {
   "cell_type": "markdown",
   "id": "9d0c860b-736b-4cee-af28-eee8fdeb84dc",
   "metadata": {},
   "source": [
    "# Q3"
   ]
  },
  {
   "cell_type": "markdown",
   "id": "785a663d-c04b-4134-aff7-fcb197613e40",
   "metadata": {},
   "source": [
    "try and except blocks are used to catch and handled exception."
   ]
  },
  {
   "cell_type": "code",
   "execution_count": 14,
   "id": "dab2727a-436a-4849-811d-b023849f18e9",
   "metadata": {},
   "outputs": [
    {
     "name": "stdin",
     "output_type": "stream",
     "text": [
      "Enter the number: a\n"
     ]
    },
    {
     "name": "stdout",
     "output_type": "stream",
     "text": [
      "invalid literal for int() with base 10: 'a'\n"
     ]
    }
   ],
   "source": [
    "# Example\n",
    "import logging\n",
    "logging.basicConfig(filename = \"file1.log\",level = logging.INFO,format = '%(asctime)s %(levelname)s %(message)s')\n",
    "try:\n",
    "    logging.info(\"This is start of this program\")\n",
    "    a = int(input(\"Enter the number:\"))\n",
    "    b = int(input(\"Enter the second number:\"))\n",
    "    SUM = a+b\n",
    "    print(f\"The result is: {SUM}\")\n",
    "    logging.info(f\"The result is {SUM}\")\n",
    "except Exception as e:\n",
    "    print(e)\n",
    "    logging.exception(f\"Exception has occured: {e}\")\n",
    "    "
   ]
  },
  {
   "cell_type": "markdown",
   "id": "177dc239-8599-4e30-aff0-361db60a1eb6",
   "metadata": {},
   "source": [
    "# Q4"
   ]
  },
  {
   "cell_type": "code",
   "execution_count": 18,
   "id": "1f35cded-cfa6-4a4c-befc-9e14996112fe",
   "metadata": {},
   "outputs": [
    {
     "name": "stdin",
     "output_type": "stream",
     "text": [
      "Enter the first number: 2\n",
      "Enter the second number: a\n"
     ]
    },
    {
     "name": "stdout",
     "output_type": "stream",
     "text": [
      "invalid literal for int() with base 10: 'a'\n"
     ]
    }
   ],
   "source": [
    "# EXAMPLE for try and else\n",
    "import logging\n",
    "logging.basicConfig(filename = \"file2.log\",level = logging.INFO, format = '%(asctime)s %(levelname)s %(message)')\n",
    "try:\n",
    "    logging.info(\"This is the start of my program\")\n",
    "    a = int(input(\"Enter the first number:\"))\n",
    "    b = int(input(\"Enter the second number:\"))\n",
    "    result = a+b\n",
    "    print(result)\n",
    "    logging.info(f\"result is{result}\")\n",
    "except Exception as e:\n",
    "    print(e)\n",
    "    logging.info(f\"Error has occured{e}\")\n",
    "else:\n",
    "    print(\"Program executed successfully\")"
   ]
  },
  {
   "cell_type": "code",
   "execution_count": 28,
   "id": "e40fd217-b5cc-46c2-ac97-246d9a74730c",
   "metadata": {},
   "outputs": [
    {
     "name": "stdin",
     "output_type": "stream",
     "text": [
      "Enter the first number: 1\n",
      "Enter the second number: s\n"
     ]
    },
    {
     "name": "stdout",
     "output_type": "stream",
     "text": [
      "invalid literal for int() with base 10: 's'\n",
      "This finally block will always execute\n"
     ]
    }
   ],
   "source": [
    "# EXAMPLE for finally\n",
    "import logging\n",
    "logging.basicConfig(filename = \"file3.log\",level = logging.INFO, format = '%(asctime)s %(levelname)s %(message)')\n",
    "try :\n",
    "    logging.info(\"This is the start of my program\")\n",
    "    a = int(input(\"Enter the first number:\"))\n",
    "    b = int(input(\"Enter the second number:\"))\n",
    "    result = a/b\n",
    "    print(f\"RESULT IS:{result}\")\n",
    "    logging.info(f\"Result is {result}\")\n",
    "except Exception as e:\n",
    "    print(e)\n",
    "    logging.exception(f\"Exception has occured{e}\")\n",
    "else:\n",
    "    logging.info(\"program executed successfully\")\n",
    "    print(\"program executed successfully\")\n",
    "finally:\n",
    "    print(\"This finally block will always execute\")"
   ]
  },
  {
   "cell_type": "code",
   "execution_count": 25,
   "id": "cf1079a5-31ba-491e-94c2-2e5209bb919a",
   "metadata": {},
   "outputs": [
    {
     "name": "stdin",
     "output_type": "stream",
     "text": [
      "Enter the result:  101\n"
     ]
    },
    {
     "name": "stdout",
     "output_type": "stream",
     "text": [
      "ERROR: RESULT IS INVALID\n"
     ]
    }
   ],
   "source": [
    "# example raise\n",
    "import logging\n",
    "logging.basicConfig(filename=\"file4.log\",level = logging.DEBUG,format = '%(asctime)s %(levelname)s %(message)s')\n",
    "class invalid_result(Exception):\n",
    "    def __init__(self,msg):\n",
    "        self.msg = msg\n",
    "def result(rslt):\n",
    "    logging.info(\"This is the under result function\")\n",
    "    if rslt < 0:\n",
    "        logging.info(\"result is less then 0\")\n",
    "        raise invalid_result(\"ERROR: RESULT IS INVALID\")\n",
    "    elif rslt >100:\n",
    "        logging.info(\"result is more than 100\")\n",
    "        raise invalid_result(\"ERROR: RESULT IS INVALID\")\n",
    "    else:\n",
    "        logging.info(\"result is valid\")\n",
    "        print(\"RESULT IS VALID\")\n",
    "try:\n",
    "    logging.info(\"This is the start of This program\")\n",
    "    a = int(input(\"Enter the result: \"))\n",
    "    result(a)\n",
    "except invalid_result as e:\n",
    "    print(e)\n",
    "    logging.exception(f\"ERROR HAS OCCURED: {str(e)}\")\n",
    "else:\n",
    "    logging.info(\"program executed successfully\")"
   ]
  },
  {
   "cell_type": "markdown",
   "id": "a0dbb8cc-128d-4ae8-a0a2-2ecb3e231ecd",
   "metadata": {},
   "source": [
    "# Q5"
   ]
  },
  {
   "cell_type": "markdown",
   "id": "eab61927-ed98-404c-bee3-5ce13c0f40a3",
   "metadata": {},
   "source": [
    "Custom exception is  creating a new exception by our own logic.To implement our own logic we need to create our own custom exception."
   ]
  },
  {
   "cell_type": "code",
   "execution_count": 2,
   "id": "72f90d4c-5ea3-400e-aefb-f246d7ab29b9",
   "metadata": {},
   "outputs": [
    {
     "name": "stdin",
     "output_type": "stream",
     "text": [
      "Enter a strong password with length of more than 8 charrecter:  1000000000\n"
     ]
    },
    {
     "name": "stdout",
     "output_type": "stream",
     "text": [
      "You have entered a strong password\n"
     ]
    }
   ],
   "source": [
    "# for example we need to raise error when our locker password is not strong:\n",
    "import logging\n",
    "logging.basicConfig(filename = \"file5.log\",level = logging.DEBUG,format = '%(asctime)s %(levelname)s %(message)s')\n",
    "try:\n",
    "    logging.info(\"This is the start of this program\")\n",
    "    password = input(\"Enter a strong password with length of more than 8 charrecter: \")\n",
    "    if len(password)>=8:\n",
    "        print(\"You have entered a strong password\")\n",
    "        logging.info(\"User entered a valid password\")\n",
    "    else:\n",
    "        raise Exception(\"ERROR: PASSWORD NOT STRONG\")\n",
    "        logging.info(\"Users entered an invalid password\")\n",
    "except Exception as e:\n",
    "    print(e)\n",
    "    logging.exception(f\"ERROR HAS OCCURED: {str(e)}\")\n",
    "else:\n",
    "    logging.info(\"program executed successfully\")\n",
    "        "
   ]
  },
  {
   "cell_type": "markdown",
   "id": "1aa77c76-845a-42ac-b3f8-cde6cbd93259",
   "metadata": {},
   "source": [
    "# Q6"
   ]
  },
  {
   "cell_type": "code",
   "execution_count": 7,
   "id": "1b7bb503-f23d-44f4-b9ee-be367f8f644e",
   "metadata": {},
   "outputs": [
    {
     "name": "stdin",
     "output_type": "stream",
     "text": [
      "You have to enter 21 :  21\n"
     ]
    },
    {
     "name": "stdout",
     "output_type": "stream",
     "text": [
      "congratulation You have entered right number\n",
      "you got one point.your score: 1\n"
     ]
    },
    {
     "name": "stdin",
     "output_type": "stream",
     "text": [
      "You have to enter 79 :  79\n"
     ]
    },
    {
     "name": "stdout",
     "output_type": "stream",
     "text": [
      "congratulation You have entered right number\n",
      "you got one point.your score: 2\n"
     ]
    },
    {
     "name": "stdin",
     "output_type": "stream",
     "text": [
      "You have to enter 16 :  12\n"
     ]
    },
    {
     "name": "stdout",
     "output_type": "stream",
     "text": [
      "ERROR: WRONG INPUT\n",
      "Game Over.Your total score is: 2\n"
     ]
    }
   ],
   "source": [
    "# You have to enter the exact number what system want you to enter else it will be an eror\n",
    "import logging\n",
    "import random\n",
    "logging.basicConfig(filename = \"file6.log\",level = logging.DEBUG,format = '%(asctime)s %(levelname)s %(message)s')\n",
    "class typing_eror(Exception):\n",
    "    def __init__(self,message):\n",
    "        self.message = message\n",
    "try:\n",
    "    logging.info(\"This is start of this program\")\n",
    "    score = 0\n",
    "    while True:\n",
    "        number = random.randint(0,100)\n",
    "        user_input = input(f\"You have to enter {number} : \")\n",
    "        if str(number) == user_input:\n",
    "            logging.info(\"User input is right\")\n",
    "            print(\"congratulation You have entered right number\")\n",
    "            score += 1\n",
    "            logging.info(\"User got 1 point\")\n",
    "            print(f\"you got one point.your score: {score}\")\n",
    "        else:\n",
    "            logging.info(\"User input is wrong\")\n",
    "            raise typing_eror(\"ERROR: WRONG INPUT\")\n",
    "            break\n",
    "except typing_eror as e:\n",
    "    print(e)\n",
    "    print(f\"Game Over.Your total score is: {score}\")\n",
    "    logging.info(f\"User total score:{score}\")\n",
    "    logging.exception(f\"ERROR HAS OCCURED:{str(e)}\")"
   ]
  }
 ],
 "metadata": {
  "kernelspec": {
   "display_name": "Python 3 (ipykernel)",
   "language": "python",
   "name": "python3"
  },
  "language_info": {
   "codemirror_mode": {
    "name": "ipython",
    "version": 3
   },
   "file_extension": ".py",
   "mimetype": "text/x-python",
   "name": "python",
   "nbconvert_exporter": "python",
   "pygments_lexer": "ipython3",
   "version": "3.10.8"
  }
 },
 "nbformat": 4,
 "nbformat_minor": 5
}
