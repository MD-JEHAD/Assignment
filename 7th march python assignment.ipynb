{
 "cells": [
  {
   "cell_type": "markdown",
   "id": "937ea9af-98b2-44ac-b6d4-fc149c9b16d5",
   "metadata": {},
   "source": [
    "# Q1\n",
    "mean\n",
    "\n",
    "mode \n",
    "\n",
    "median."
   ]
  },
  {
   "cell_type": "markdown",
   "id": "0052501d-e97c-4aef-b43e-fca24408d823",
   "metadata": {},
   "source": [
    "# Q2\n"
   ]
  },
  {
   "cell_type": "markdown",
   "id": "6dfb163e-ce58-44b4-80a4-9043246ba670",
   "metadata": {},
   "source": [
    "Mean: The mean, also known as the average, is calculated by summing up all the values in a dataset and dividing the sum by the number of values. It is obtained by adding up all the data points and then dividing by the total count. The mean is sensitive to extreme values and can be influenced by outliers. It is commonly used when the dataset has a normal or approximately normal distribution.\n",
    "\n",
    "Median: The median is the middle value in a dataset when it is arranged in ascending or descending order. If the dataset has an odd number of values, the median is the middle value. If the dataset has an even number of values, the median is the average of the two middle values. The median is not affected by extreme values or outliers and is a useful measure when the dataset contains outliers or is not normally distributed.\n",
    "\n",
    "Mode: The mode is the value or values that occur most frequently in a dataset. It represents the most common observation(s) in the dataset."
   ]
  },
  {
   "cell_type": "markdown",
   "id": "9002b00e-cba9-44af-8751-2f7739ec4604",
   "metadata": {},
   "source": [
    "# Q3"
   ]
  },
  {
   "cell_type": "code",
   "execution_count": 1,
   "id": "283c347d-9379-4e01-992a-d4c20e148aec",
   "metadata": {},
   "outputs": [
    {
     "data": {
      "text/plain": [
       "177.01875"
      ]
     },
     "execution_count": 1,
     "metadata": {},
     "output_type": "execute_result"
    }
   ],
   "source": [
    "l = [178,177,176,177,178.2,178,175,179,180,175,178.9,176.2,177,172.5,178,176.5]\n",
    "import numpy as np\n",
    "# mean\n",
    "np.mean(l)"
   ]
  },
  {
   "cell_type": "code",
   "execution_count": 2,
   "id": "13535b24-ae4b-4da9-95be-4c9b5b2bf917",
   "metadata": {},
   "outputs": [
    {
     "data": {
      "text/plain": [
       "177.0"
      ]
     },
     "execution_count": 2,
     "metadata": {},
     "output_type": "execute_result"
    }
   ],
   "source": [
    "# median\n",
    "np.median(l)"
   ]
  },
  {
   "cell_type": "code",
   "execution_count": 3,
   "id": "01d47e69-f0e7-463e-abd3-6f4350bd85f7",
   "metadata": {},
   "outputs": [
    {
     "name": "stderr",
     "output_type": "stream",
     "text": [
      "/tmp/ipykernel_70/3308046254.py:3: FutureWarning: Unlike other reduction functions (e.g. `skew`, `kurtosis`), the default behavior of `mode` typically preserves the axis it acts along. In SciPy 1.11.0, this behavior will change: the default value of `keepdims` will become False, the `axis` over which the statistic is taken will be eliminated, and the value None will no longer be accepted. Set `keepdims` to True or False to avoid this warning.\n",
      "  stats.mode(l)\n"
     ]
    },
    {
     "data": {
      "text/plain": [
       "ModeResult(mode=array([177.]), count=array([3]))"
      ]
     },
     "execution_count": 3,
     "metadata": {},
     "output_type": "execute_result"
    }
   ],
   "source": [
    "# mod\n",
    "from scipy import stats\n",
    "stats.mode(l)"
   ]
  },
  {
   "cell_type": "markdown",
   "id": "e5548420-adac-4e9e-8e8c-e88bb3cff8f6",
   "metadata": {},
   "source": [
    "# Q4"
   ]
  },
  {
   "cell_type": "code",
   "execution_count": 4,
   "id": "c06f53ef-e51f-41ed-9f2f-32179e7ea8bd",
   "metadata": {},
   "outputs": [
    {
     "data": {
      "text/plain": [
       "1.7885814036548633"
      ]
     },
     "execution_count": 4,
     "metadata": {},
     "output_type": "execute_result"
    }
   ],
   "source": [
    "l = [178,177,176,177,178.2,178,175,179,180,175,178.9,176.2,177,172.5,178,176.5]\n",
    "np.std(l)"
   ]
  },
  {
   "cell_type": "markdown",
   "id": "f3ec1616-c62a-4c92-b734-430fdc688413",
   "metadata": {},
   "source": [
    "# Q5"
   ]
  },
  {
   "cell_type": "markdown",
   "id": "5a3f4909-11c5-4a47-adad-39ad2baf676a",
   "metadata": {},
   "source": [
    "Range: The range is the simplest measure of dispersion and represents the difference between the maximum and minimum values in a dataset. It provides a rough estimate of the spread but doesn't account for the distribution of values in between. For example, if you have a dataset of test scores: 85, 90, 92, 78, 88, the range would be 92 - 78 = 14.\n",
    "\n",
    "Variance: Variance measures the average squared deviation from the mean. It gives a more precise measure of dispersion by considering how each value deviates from the mean. To calculate the variance, follow these steps:\n",
    "        Calculate the mean of the dataset.\n",
    "        For each value, subtract the mean and square the result.\n",
    "        Sum up all the squared deviations.\n",
    "        Divide the sum by the total number of values (or by the number of values minus one for a sample variance).\n",
    "        For example, if you have a dataset of exam scores: 85, 90, 92, 78, 88, the variance would be calculated as follows:\n",
    "\n",
    "Mean = (85 + 90 + 92 + 78 + 88) / 5 = 86.6\n",
    "\n",
    "Variance = [(85 - 86.6)^2 + (90 - 86.6)^2 + (92 - 86.6)^2 + (78 - 86.6)^2 + (88 - 86.6)^2] / 5 = 33.84\n",
    "\n",
    "Standard Deviation: The standard deviation is the square root of the variance and provides a measure of dispersion in the original units of the dataset. It is commonly used because it is easier to interpret than the variance. To calculate the standard deviation, simply take the square root of the variance. For the example above, the standard deviation would be the square root of the variance:\n",
    "\n",
    "Standard Deviation = √33.84 ≈ 5.81"
   ]
  },
  {
   "cell_type": "markdown",
   "id": "e07d04fe-1397-41fc-a4b2-b9e1e6ed05ea",
   "metadata": {},
   "source": [
    "# Q6"
   ]
  },
  {
   "cell_type": "markdown",
   "id": "c42dc624-ae0e-4b92-852b-282e3e7137aa",
   "metadata": {},
   "source": [
    "A diagram representing mathematical or logical sets pictorially as circles or closed curves within an enclosing rectangle (the universal set), common elements of the sets being represented by intersections of the circles."
   ]
  },
  {
   "cell_type": "markdown",
   "id": "c4b9204e-4f4d-49b3-977d-942be6ac750f",
   "metadata": {},
   "source": [
    "# Q7"
   ]
  },
  {
   "cell_type": "code",
   "execution_count": 12,
   "id": "b5654eb2-dddb-4191-8191-8cf4d01e7762",
   "metadata": {},
   "outputs": [
    {
     "data": {
      "text/plain": [
       "{2, 6}"
      ]
     },
     "execution_count": 12,
     "metadata": {},
     "output_type": "execute_result"
    }
   ],
   "source": [
    "# intersection\n",
    "A = (2,3,4,5,6,7)\n",
    "B = (0,2,6,8,10)\n",
    "intersection = set(A).intersection(set(B))\n",
    "intersection"
   ]
  },
  {
   "cell_type": "code",
   "execution_count": 14,
   "id": "63aec89d-0700-4bfc-9b4d-da5c07ce7a3e",
   "metadata": {},
   "outputs": [
    {
     "data": {
      "text/plain": [
       "{0, 2, 3, 4, 5, 6, 7, 8, 10}"
      ]
     },
     "execution_count": 14,
     "metadata": {},
     "output_type": "execute_result"
    }
   ],
   "source": [
    "# union\n",
    "union = set(A).union(set(B))\n",
    "union"
   ]
  },
  {
   "cell_type": "markdown",
   "id": "7ed8b0e0-d653-4716-b87d-f12286969144",
   "metadata": {},
   "source": [
    "# Q8\n",
    "Skewness is a statistical measure that describes the asymmetry of a probability distribution or dataset. It provides information about the shape and symmetry of the distribution."
   ]
  },
  {
   "cell_type": "markdown",
   "id": "6ef33e84-ee71-4ac9-a786-93b8acaba7fe",
   "metadata": {},
   "source": [
    "# Q9\n",
    "If a data distribution is right-skewed, the position of the median with respect to the mean will be to the left of the mean."
   ]
  },
  {
   "cell_type": "markdown",
   "id": "5486c0f8-66f7-4ec4-9334-1463ee856ff2",
   "metadata": {},
   "source": [
    "# Q10\n",
    "# Covariance:\n",
    "Covariance measures the extent to which two variables vary together. It calculates the average of the product of the differences between the values of the two variables and their respective means. Covariance can take any value, positive or negative, depending on the direction of the relationship and the scale of the variables.\n",
    "\n",
    "# Correlation:\n",
    "Correlation, on the other hand, measures the strength and direction of the linear relationship between two variables. It normalizes the covariance by dividing it by the product of the standard deviations of the variables. The resulting value ranges between -1 and 1, where -1 indicates a perfect negative linear relationship, 1 indicates a perfect positive linear relationship, and 0 indicates no linear relationship."
   ]
  },
  {
   "cell_type": "markdown",
   "id": "ce0fc580-f14a-4431-bd6b-daa576f2b5b3",
   "metadata": {},
   "source": [
    "# Q11\n",
    "# formula for sample mean\n",
    "x̄ = (x₁ + x₂ + x₃ + ... + xn) / n\n",
    "\n",
    "Where:\n",
    "\n",
    "x₁, x₂, x₃, ..., xn are the individual data points in the sample.\n",
    "\n",
    "n is the total number of data points in the sample."
   ]
  },
  {
   "cell_type": "code",
   "execution_count": 16,
   "id": "8bc027bc-c7ac-44b9-9864-caf0299ea4c1",
   "metadata": {},
   "outputs": [
    {
     "data": {
      "text/plain": [
       "177.01875"
      ]
     },
     "execution_count": 16,
     "metadata": {},
     "output_type": "execute_result"
    }
   ],
   "source": [
    "# example\n",
    "sample_dataset= [178,177,176,177,178.2,178,175,179,180,175,178.9,176.2,177,172.5,178,176.5]\n",
    "mean = sum(sample_dataset)/len(sample_dataset)\n",
    "mean"
   ]
  },
  {
   "cell_type": "markdown",
   "id": "46bfc816-bc27-4902-98dc-689e1be08aa3",
   "metadata": {},
   "source": [
    "# 12\n",
    "For a normal distribution, the measures of central tendency, namely the mean, median, and mode, are all equal. In other words, in a perfectly symmetrical normal distribution, the mean, median, and mode will have the same value."
   ]
  },
  {
   "cell_type": "markdown",
   "id": "dd3e65a8-eedf-4d3d-9924-237c09ae3e57",
   "metadata": {},
   "source": [
    "# Q13"
   ]
  },
  {
   "cell_type": "markdown",
   "id": "493b385f-edf7-43f8-b54e-1023fa624f10",
   "metadata": {},
   "source": [
    "# Covariance: \n",
    "Covariance measures the extent to which two variables vary together. It can be positive (indicating a direct relationship), negative (indicating an inverse relationship), or zero (indicating no relationship). The magnitude of covariance is not standardized, making it difficult to interpret its exact strength or compare across different datasets.\n",
    "# Correlation: \n",
    "Correlation measures the strength and direction of the linear relationship between two variables. It ranges from -1 to 1, where -1 indicates a perfect negative linear relationship, 1 indicates a perfect positive linear relationship, and 0 indicates no linear relationship. Correlation is standardized, making it easier to compare and interpret the strength of relationships across different datasets."
   ]
  },
  {
   "cell_type": "markdown",
   "id": "6431387e-b27f-4689-9e5e-8e7b7c49be53",
   "metadata": {},
   "source": [
    "# Q14\n",
    "\n",
    "Outliers can have a significant impact on measures of central tendency and dispersion. They can distort these measures and provide misleading information about the data. Here's an example to illustrate their effects:\n",
    "\n",
    "Consider a dataset representing the incomes (in USD) of a group of individuals:\n",
    "\n",
    "$40,000, $42,000, $43,000, $45,000, $46,000, $50,000, $51,000, $52,000, $55,000, $200,000\n",
    "\n",
    "In this dataset, the last value, $200,000, is an outlier as it is significantly higher than the other values. Let's examine how outliers affect measures of central tendency and dispersion:\n",
    "\n",
    "Measures of Central Tendency:\n",
    "\n",
    "Mean: The mean is calculated by summing up all values and dividing by the total number of values. In this case, the mean income would be:\n",
    "\n",
    "Mean = (40,000 + 42,000 + 43,000 + 45,000 + 46,000 + 50,000 + 51,000 + 52,000 + 55,000 + 200,000) / 10 = $48,500\n",
    "\n",
    "The presence of the outlier significantly increases the mean income, pulling it higher than the majority of the data. Consequently, the mean becomes less representative of the typical income in the dataset.\n",
    "\n",
    " Median: The median is the middle value of a sorted dataset. In this case, after sorting the values, the median income would be:\n",
    "\n",
    "Median = $46,000\n",
    "\n",
    "Unlike the mean, the median is not influenced by the magnitude of outliers. It remains relatively unaffected and represents the income at the midpoint of the dataset.\n",
    "\n",
    "Measures of Dispersion:\n",
    "\n",
    "Range: The range is the difference between the maximum and minimum values in the dataset. In this case, the range would be:\n",
    "\n",
    "Range = $200,000 - $40,000 = $160,000\n",
    "\n",
    "The presence of the outlier significantly increases the range, making it larger and less informative about the spread of the majority of the data.\n",
    "\n",
    "Standard Deviation: The standard deviation measures the average amount by which data points deviate from the mean. In this case, the standard deviation of the incomes would be:\n",
    "\n",
    "Standard Deviation = $56,267\n",
    "\n",
    "The presence of the outlier can increase the standard deviation, as it introduces a large deviation from the mean. This indicates a higher overall variability in the dataset, even though most of the data points have lower deviations."
   ]
  }
 ],
 "metadata": {
  "kernelspec": {
   "display_name": "Python 3 (ipykernel)",
   "language": "python",
   "name": "python3"
  },
  "language_info": {
   "codemirror_mode": {
    "name": "ipython",
    "version": 3
   },
   "file_extension": ".py",
   "mimetype": "text/x-python",
   "name": "python",
   "nbconvert_exporter": "python",
   "pygments_lexer": "ipython3",
   "version": "3.10.8"
  }
 },
 "nbformat": 4,
 "nbformat_minor": 5
}
