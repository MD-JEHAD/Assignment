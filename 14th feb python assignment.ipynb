{
 "cells": [
  {
   "cell_type": "markdown",
   "id": "7d89be40-0cb4-42e9-a1e2-bfc80c535221",
   "metadata": {},
   "source": [
    "# Q1"
   ]
  },
  {
   "cell_type": "markdown",
   "id": "00bc9664-820a-4582-a235-16d4d799ac5a",
   "metadata": {},
   "source": [
    "Multithreading is when a program creates multiple threads with execution cycling among them, so one longer-running task doesn't block all the others.It is used to run multiple program in a single core.threading module is use to handle the threads in python"
   ]
  },
  {
   "cell_type": "markdown",
   "id": "f96ea349-b5a2-42a9-aa71-2e3a68131d2d",
   "metadata": {},
   "source": [
    "# Q2"
   ]
  },
  {
   "cell_type": "markdown",
   "id": "fda5bea4-0d21-4231-8b6a-6f614d10359e",
   "metadata": {},
   "source": [
    "threading module is used to handle threads operation in python."
   ]
  },
  {
   "cell_type": "markdown",
   "id": "9cd869e2-9cee-43ae-864d-1953be9f6293",
   "metadata": {},
   "source": [
    "# activeCount()\n",
    "The activeCount() method of thread class is used to return the number of active threads in the current thread's thread group\n",
    "# currentThread()\n",
    "The currentThread() method of thread class is used to return a reference to the currently executing thread object.\n",
    "# enumerate()\n",
    "the enumerate() function is used to iterate and count items in an iterable collection such as list, tuple, or string"
   ]
  },
  {
   "cell_type": "markdown",
   "id": "7e838456-a65e-4fa5-ad63-05e06f8dc373",
   "metadata": {},
   "source": [
    "# Q3"
   ]
  },
  {
   "cell_type": "markdown",
   "id": "46e94c2f-fb57-4730-a2a2-2e4192e865a2",
   "metadata": {},
   "source": [
    "# run()\n",
    "The .run() method executes any target function belonging to a given thread object that is now active. It normally executes in the background after the .start() method is invoked.\n",
    "# start()\n",
    "The start() function will return immediately and the operating system will execute the function in a separate process as soon as it is able\n",
    "# join()\n",
    "The Python join() function is used to join all the elements from the iterable and create a string and return it as an output to the user\n",
    "# isAlive()\n",
    "The isAlive() method of thread class tests if the thread is alive"
   ]
  },
  {
   "cell_type": "markdown",
   "id": "23d78dfa-0173-4b5d-a6f3-21c37f70fd58",
   "metadata": {},
   "source": [
    "# Q4"
   ]
  },
  {
   "cell_type": "code",
   "execution_count": 7,
   "id": "5e015f7e-5ad7-4afd-b7d2-441d38d78c70",
   "metadata": {},
   "outputs": [],
   "source": [
    "import threading\n",
    "def return_int(id):\n",
    "    print(id)\n",
    "thread1 = [threading.Thread(target = return_int,args = (i**2,)) for i in range(10)]\n",
    "thread2 = [threading.Thread(target = return_int,args = (i**3,)) for i in range(10)]"
   ]
  },
  {
   "cell_type": "code",
   "execution_count": 8,
   "id": "e63f9d51-1176-4828-81db-6a044b5ade0d",
   "metadata": {},
   "outputs": [
    {
     "name": "stdout",
     "output_type": "stream",
     "text": [
      "0\n",
      "1\n",
      "4\n",
      "9\n",
      "16\n",
      "25\n",
      "36\n",
      "49\n",
      "64\n",
      "81\n"
     ]
    }
   ],
   "source": [
    "for t in thread1:\n",
    "    t.start()\n",
    "    "
   ]
  },
  {
   "cell_type": "code",
   "execution_count": 9,
   "id": "9bc56979-3571-48da-9ec2-fc802f8abd39",
   "metadata": {},
   "outputs": [
    {
     "name": "stdout",
     "output_type": "stream",
     "text": [
      "0\n",
      "1\n",
      "8\n",
      "27\n",
      "64\n",
      "125\n",
      "216\n",
      "343\n",
      "512\n",
      "729\n"
     ]
    }
   ],
   "source": [
    "for t in thread2:\n",
    "    t.start()"
   ]
  },
  {
   "cell_type": "markdown",
   "id": "a14ee729-96ed-4a1b-aeb8-c47a28a4553c",
   "metadata": {},
   "source": [
    "# Q5"
   ]
  },
  {
   "cell_type": "markdown",
   "id": "378ee580-3f9a-41c7-8b1e-e917b3b7d756",
   "metadata": {},
   "source": [
    "# Advantage\n",
    "Threads minimize the context switching time.\n",
    "\n",
    "Use of threads provides concurrency within a process.\n",
    "\n",
    "Efficient communication.\n",
    "\n",
    "It is more economical to create and context switch threads.\n",
    "\n",
    "Threads allow utilization of multiprocessor architectures to a greater scale and efficiency.\n",
    "# Disadvantage\n",
    "Difficulty of writing code. Multithreaded and multicontexted applications are not easy to write. ...\n",
    "\n",
    "Difficulty of debugging. ...\n",
    "\n",
    "Difficulty of managing concurrency. ...\n",
    "\n",
    "Difficulty of testing. ...\n",
    "\n",
    "Difficulty of porting existing code."
   ]
  },
  {
   "cell_type": "markdown",
   "id": "56e34160-d756-4bb7-a46b-fff5ece46853",
   "metadata": {},
   "source": [
    "# Q6"
   ]
  },
  {
   "cell_type": "markdown",
   "id": "e8ec2cbe-3815-450f-baf6-69b10e504c4d",
   "metadata": {},
   "source": [
    "# Deadlock\n",
    "Deadlock exists when two threads seek one lock simultaneously.\n",
    "# race conditions\n",
    "A race condition occurs when two threads use the same variable at a given time."
   ]
  }
 ],
 "metadata": {
  "kernelspec": {
   "display_name": "Python 3 (ipykernel)",
   "language": "python",
   "name": "python3"
  },
  "language_info": {
   "codemirror_mode": {
    "name": "ipython",
    "version": 3
   },
   "file_extension": ".py",
   "mimetype": "text/x-python",
   "name": "python",
   "nbconvert_exporter": "python",
   "pygments_lexer": "ipython3",
   "version": "3.10.8"
  }
 },
 "nbformat": 4,
 "nbformat_minor": 5
}
