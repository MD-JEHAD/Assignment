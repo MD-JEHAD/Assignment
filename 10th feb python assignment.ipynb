{
 "cells": [
  {
   "cell_type": "markdown",
   "id": "2e40af09-f9bf-47f7-ba56-c7842c2478e3",
   "metadata": {},
   "source": [
    "# Q1"
   ]
  },
  {
   "cell_type": "markdown",
   "id": "961ac79f-85d7-45da-92cd-1b3138923e88",
   "metadata": {},
   "source": [
    "open() function is used to open a file\n",
    "\n",
    "The different mode of openning a file:\n",
    "\n",
    "'r'       open for reading \n",
    "\n",
    "'w'       open for writing, truncating the file first\n",
    "\n",
    "'x'       create a new file and open it for writing\n",
    "\n",
    "'a'       open for writing, appending to the end of the file if it exists\n",
    "\n",
    "'b'       binary mode\n",
    "\n",
    "'t'       text mode (default)\n",
    "\n",
    "'+'       open a disk file for updating (reading and writing)\n",
    "\n",
    "'U'       universal newline mode (deprecated)"
   ]
  },
  {
   "cell_type": "markdown",
   "id": "a6a48807-97e1-4616-b563-955928ded1a2",
   "metadata": {},
   "source": [
    "# Q2"
   ]
  },
  {
   "cell_type": "markdown",
   "id": "dc9223d3-f24b-4bad-8c21-441da75cb6bf",
   "metadata": {},
   "source": [
    "close function is used for close a file.\n",
    "\n",
    "when we made changes to a file due to buffering the changes may not show until we close the file.that's why closing a file is important"
   ]
  },
  {
   "cell_type": "markdown",
   "id": "c5929d8d-36ed-4431-b2d4-f578324cfcea",
   "metadata": {},
   "source": [
    "# Q3"
   ]
  },
  {
   "cell_type": "code",
   "execution_count": 14,
   "id": "34bf889d-e5a8-4007-84d1-4aa3a419a599",
   "metadata": {},
   "outputs": [
    {
     "name": "stdout",
     "output_type": "stream",
     "text": [
      "I want to become a Data Scientist\n"
     ]
    }
   ],
   "source": [
    "with open(\"file.txt\",\"w\") as f:\n",
    "    f.write(\"I want to become a Data Scientist\")\n",
    "with open(\"file.txt\") as f:\n",
    "    print(f.read())"
   ]
  },
  {
   "cell_type": "markdown",
   "id": "b7fe9726-c1ca-4bfa-b250-ff70f273dddf",
   "metadata": {},
   "source": [
    "# Q4"
   ]
  },
  {
   "cell_type": "markdown",
   "id": "f0079afa-f1ea-430e-9536-26a4e00d39ad",
   "metadata": {},
   "source": [
    "for read() method: The read() method returns the specified number of bytes from the file.by default it's return the whole file"
   ]
  },
  {
   "cell_type": "code",
   "execution_count": 15,
   "id": "2bd28470-4ad3-457f-9d86-3a33327276fd",
   "metadata": {},
   "outputs": [
    {
     "name": "stdout",
     "output_type": "stream",
     "text": [
      "Data Science Masters course is highly curated and uniquely designed according to the latest industry standards. This program instills students the skills essential to knowledge discovery efforts to identify standard, novel, and truly differentiated solutions and decision-making, including skills in managing, querying, analyzing, visualizing, and extracting meaning from extremely large data sets. This trending program provides students with the statistical, mathematical and computational skills needed to meet the large-scale data science challenges of today's professional world. You will learn all the stack required to work in data science industry including cloud infrastructure and real-time industry projects. This course will be taught in Hindi language.\n"
     ]
    }
   ],
   "source": [
    "with open(\"file1.txt\",\"w\") as f:\n",
    "    f.write(\"Data Science Masters course is highly curated and uniquely designed according to the latest industry standards. This program instills students the skills essential to knowledge discovery efforts to identify standard, novel, and truly differentiated solutions and decision-making, including skills in managing, querying, analyzing, visualizing, and extracting meaning from extremely large data sets. This trending program provides students with the statistical, mathematical and computational skills needed to meet the large-scale data science challenges of today's professional world. You will learn all the stack required to work in data science industry including cloud infrastructure and real-time industry projects. This course will be taught in Hindi language.\")\n",
    "with open(\"file1.txt\") as f:\n",
    "    print(f.read())"
   ]
  },
  {
   "cell_type": "markdown",
   "id": "e2c00e40-60c2-40da-a004-71979398d364",
   "metadata": {},
   "source": [
    "Python readline() method reads only one complete line from the file given"
   ]
  },
  {
   "cell_type": "code",
   "execution_count": 16,
   "id": "8f6f22cf-a44b-46b8-aad1-131d1aa0adc0",
   "metadata": {},
   "outputs": [
    {
     "name": "stdout",
     "output_type": "stream",
     "text": [
      "Data Science Masters course is highly curated and uniquely designed according to the latest industry standards. This program instills students the skills essential to knowledge discovery efforts to identify standard, novel, and truly differentiated solutions and decision-making, including skills in managing, querying, analyzing, visualizing, and extracting meaning from extremely large data sets. This trending program provides students with the statistical, mathematical and computational skills needed to meet the large-scale data science challenges of today's professional world. You will learn all the stack required to work in data science industry including cloud infrastructure and real-time industry projects. This course will be taught in Hindi language.\n"
     ]
    }
   ],
   "source": [
    "with open(\"file1.txt\") as f:\n",
    "    print(f.readline())"
   ]
  },
  {
   "cell_type": "markdown",
   "id": "e3c71bd3-c739-4b6d-81a7-c87ae332bf44",
   "metadata": {},
   "source": [
    "The readlines() method returns a list containing each line in the file as a list item."
   ]
  },
  {
   "cell_type": "code",
   "execution_count": 17,
   "id": "f1418d69-460c-4322-8f25-518105d678c0",
   "metadata": {},
   "outputs": [
    {
     "name": "stdout",
     "output_type": "stream",
     "text": [
      "[\"Data Science Masters course is highly curated and uniquely designed according to the latest industry standards. This program instills students the skills essential to knowledge discovery efforts to identify standard, novel, and truly differentiated solutions and decision-making, including skills in managing, querying, analyzing, visualizing, and extracting meaning from extremely large data sets. This trending program provides students with the statistical, mathematical and computational skills needed to meet the large-scale data science challenges of today's professional world. You will learn all the stack required to work in data science industry including cloud infrastructure and real-time industry projects. This course will be taught in Hindi language.\"]\n"
     ]
    }
   ],
   "source": [
    "with open(\"file1.txt\") as f:\n",
    "    print(f.readlines())"
   ]
  },
  {
   "cell_type": "markdown",
   "id": "47ca4c3c-a309-4221-adec-3f234989f657",
   "metadata": {},
   "source": [
    "# Q5"
   ]
  },
  {
   "cell_type": "markdown",
   "id": "6294076a-2e93-4a14-be13-12aed320c6cb",
   "metadata": {},
   "source": [
    "The with statement works with the open() function to open a file.the advantage of using with statement and\n",
    "open() together is that it ensures that open file descriptors are automatically closed after the flow of execution leaves the with code block."
   ]
  },
  {
   "cell_type": "markdown",
   "id": "cebb22a8-1e3b-4ae4-aa41-522aca916cb1",
   "metadata": {},
   "source": [
    "# Q6"
   ]
  },
  {
   "cell_type": "markdown",
   "id": "a88f0e52-a339-4924-805d-6cf1128eb30f",
   "metadata": {},
   "source": [
    "The write() method writes a specified text to the file."
   ]
  },
  {
   "cell_type": "code",
   "execution_count": 22,
   "id": "c8d733d0-f27f-4be1-b082-9c1e113a3748",
   "metadata": {},
   "outputs": [
    {
     "name": "stdout",
     "output_type": "stream",
     "text": [
      "My name is Md Jehad Hossain\n"
     ]
    }
   ],
   "source": [
    "with open(\"file2.txt\",\"w\") as f:\n",
    "    f.write(\"My name is Md Jehad Hossain\")\n",
    "with open(\"file2.txt\",\"r\") as f:\n",
    "    print(f.read())"
   ]
  },
  {
   "cell_type": "markdown",
   "id": "7844c019-26b1-4854-ad02-62e10f2c629d",
   "metadata": {},
   "source": [
    "The writelines() method writes the items of a list to the file."
   ]
  },
  {
   "cell_type": "code",
   "execution_count": 25,
   "id": "d865c688-82ba-4854-a646-44b8bcc06c46",
   "metadata": {},
   "outputs": [
    {
     "name": "stdout",
     "output_type": "stream",
     "text": [
      "My name is Jehad I want to become a Data Scientist\n"
     ]
    }
   ],
   "source": [
    "with open(\"file3.txt\",\"w\") as f:\n",
    "    f.writelines([\"My name is Jehad\",\" I want to become a Data Scientist\"])\n",
    "with open(\"file3.txt\",\"r\") as f:\n",
    "    print(f.read())"
   ]
  },
  {
   "cell_type": "code",
   "execution_count": null,
   "id": "4b39fb3e-2796-4607-8252-74dd3f0b4743",
   "metadata": {},
   "outputs": [],
   "source": []
  }
 ],
 "metadata": {
  "kernelspec": {
   "display_name": "Python 3 (ipykernel)",
   "language": "python",
   "name": "python3"
  },
  "language_info": {
   "codemirror_mode": {
    "name": "ipython",
    "version": 3
   },
   "file_extension": ".py",
   "mimetype": "text/x-python",
   "name": "python",
   "nbconvert_exporter": "python",
   "pygments_lexer": "ipython3",
   "version": "3.10.8"
  }
 },
 "nbformat": 4,
 "nbformat_minor": 5
}
