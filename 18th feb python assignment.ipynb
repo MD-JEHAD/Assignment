{
 "cells": [
  {
   "cell_type": "markdown",
   "id": "66becbff",
   "metadata": {},
   "source": [
    "# Q1"
   ]
  },
  {
   "cell_type": "markdown",
   "id": "fa9784c2",
   "metadata": {},
   "source": [
    "APIs are mechanisms that enable two software components to communicate with each other using a set of definitions and protocols. For example, the weather bureau's software system contains daily weather data. The weather app on our phone talks to this system via APIs and shows us daily weather updates on our phone."
   ]
  },
  {
   "cell_type": "markdown",
   "id": "941950c1",
   "metadata": {},
   "source": [
    "# Q2"
   ]
  },
  {
   "cell_type": "markdown",
   "id": "dc87a8cf",
   "metadata": {},
   "source": [
    "# advantage\n",
    "Efficiency: When you have content that is automatically published and made available on different channels simultaneously, APIs allow for more efficient data distribution\n",
    "\n",
    "Adaptability: One of the greatest benefits of APIs is the ability it has to adapt to changes through data migration and flexibility of services.\n",
    "# disadvantage\n",
    "Creating API is a very time-consuming process.\n",
    "\n",
    "A fixed scale is necessary.\n",
    "\n",
    "Imprecise boundary delineation.\n",
    "\n",
    "To create API, programming knowledge is necessary.\n",
    "\n",
    "Maintenance cost is very high.\n",
    "\n",
    "It can crash when testing API."
   ]
  },
  {
   "cell_type": "markdown",
   "id": "2d18f908",
   "metadata": {},
   "source": [
    "# Q3"
   ]
  },
  {
   "cell_type": "markdown",
   "id": "8e4bbc01",
   "metadata": {},
   "source": [
    "Web API is an application programming interface for the Web. It is used to extend the functionality of a web browser.\n",
    "# API\n",
    "through API we can access one application's code or methods from another application.\n",
    "# WEB API\n",
    "through web api we can access web browser's code or method from another application."
   ]
  },
  {
   "cell_type": "markdown",
   "id": "585bde6a",
   "metadata": {},
   "source": [
    "# Q4"
   ]
  },
  {
   "cell_type": "markdown",
   "id": "2eed2c96",
   "metadata": {},
   "source": [
    "# REST\n",
    "REST is a software architectural style that defines the set of rules to be used for creating web services.\n",
    "# SOAP\n",
    "The SOAP web services architecture is based on interactions between three components: a service provider, a service requester, and an optional service registry\n",
    "# shortcomings of SOAP\n",
    "SOAP can only transfer messages as XML files, your SOAP API will be less performant, as XML is a verbose format compared to JSON. API calls made to your server will need more bandwidth and it will take more time to process the request and transfer the response back to the client."
   ]
  },
  {
   "cell_type": "markdown",
   "id": "a324b2ee",
   "metadata": {},
   "source": [
    "# Q5"
   ]
  },
  {
   "cell_type": "markdown",
   "id": "a1412844",
   "metadata": {},
   "source": [
    "REST is a set of guidelines that offers flexible implementation, whereas SOAP is a protocol with specific requirements like XML messaging."
   ]
  }
 ],
 "metadata": {
  "kernelspec": {
   "display_name": "Python 3",
   "language": "python",
   "name": "python3"
  },
  "language_info": {
   "codemirror_mode": {
    "name": "ipython",
    "version": 3
   },
   "file_extension": ".py",
   "mimetype": "text/x-python",
   "name": "python",
   "nbconvert_exporter": "python",
   "pygments_lexer": "ipython3",
   "version": "3.8.8"
  }
 },
 "nbformat": 4,
 "nbformat_minor": 5
}
