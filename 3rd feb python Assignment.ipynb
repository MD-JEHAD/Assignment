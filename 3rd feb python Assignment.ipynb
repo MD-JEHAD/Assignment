{
 "cells": [
  {
   "cell_type": "markdown",
   "id": "94fe724e",
   "metadata": {},
   "source": [
    "# Q1"
   ]
  },
  {
   "cell_type": "markdown",
   "id": "3b23cf30",
   "metadata": {},
   "source": [
    "def keyword is used to create a function."
   ]
  },
  {
   "cell_type": "code",
   "execution_count": 23,
   "id": "81bbf997",
   "metadata": {},
   "outputs": [
    {
     "data": {
      "text/plain": [
       "[1, 3, 5, 7, 9, 11, 13, 15, 17, 19, 21, 23]"
      ]
     },
     "execution_count": 23,
     "metadata": {},
     "output_type": "execute_result"
    }
   ],
   "source": [
    "def returns_odd(n):\n",
    "    \"\"\"This function is used to return a list of odd number\"\"\"\n",
    "    l=[]\n",
    "    for i in range(1,n):\n",
    "        if i%2==1:\n",
    "            l.append(i)\n",
    "    return l\n",
    "returns_odd(25)"
   ]
  },
  {
   "cell_type": "markdown",
   "id": "f2efad16",
   "metadata": {},
   "source": [
    "# Q2"
   ]
  },
  {
   "cell_type": "markdown",
   "id": "c306edf1",
   "metadata": {},
   "source": [
    "*args is used to pass any number of non_keyword argument in function"
   ]
  },
  {
   "cell_type": "markdown",
   "id": "ab132a76",
   "metadata": {},
   "source": [
    "**kwargs is used to pass any number of keyword argument with key=value pair."
   ]
  },
  {
   "cell_type": "code",
   "execution_count": 21,
   "id": "10483b3b",
   "metadata": {},
   "outputs": [
    {
     "data": {
      "text/plain": [
       "([1, 2, 3, 45, 9], ['jehad', 'rj', 'ineuron'])"
      ]
     },
     "execution_count": 21,
     "metadata": {},
     "output_type": "execute_result"
    }
   ],
   "source": [
    "#Example of *args\n",
    "def argument(*args):\n",
    "    \"\"\"This function is used to return two siparate list.first one as a integer list and 2nd one as a string list\"\"\"\n",
    "    l=[]\n",
    "    for i in args:\n",
    "        l.append(i)\n",
    "    int_list=[]\n",
    "    str_list=[]\n",
    "    for j in l:\n",
    "        if type(j)==int:\n",
    "            int_list.append(j)\n",
    "        elif type(j)==str:\n",
    "            str_list.append(j)\n",
    "    return int_list , str_list\n",
    "argument(1,2,3,45,9,\"jehad\",\"rj\",\"ineuron\")            "
   ]
  },
  {
   "cell_type": "code",
   "execution_count": 89,
   "id": "1bdc131d",
   "metadata": {},
   "outputs": [
    {
     "data": {
      "text/plain": [
       "13200"
      ]
     },
     "execution_count": 89,
     "metadata": {},
     "output_type": "execute_result"
    }
   ],
   "source": [
    "#Example of **kwargs\n",
    "def kwargument(**kwargs):\n",
    "    \"\"\"This function is used to return total price of your shopping list\"\"\"\n",
    "    price = 0\n",
    "    for i in kwargs.values():\n",
    "        price+=i\n",
    "    return price\n",
    "kwargument(watch = 1000,mobile=12000,fruits=200)"
   ]
  },
  {
   "cell_type": "markdown",
   "id": "5404139d",
   "metadata": {},
   "source": [
    "# Q3"
   ]
  },
  {
   "cell_type": "markdown",
   "id": "7051422d",
   "metadata": {},
   "source": [
    "iterator is an object that contains a countable number of values. the iter() method used to initialise the iterator object and the next() method used for iteration."
   ]
  },
  {
   "cell_type": "code",
   "execution_count": 10,
   "id": "34f06ec9",
   "metadata": {},
   "outputs": [
    {
     "name": "stdout",
     "output_type": "stream",
     "text": [
      "2\n",
      "4\n",
      "6\n",
      "8\n",
      "10\n"
     ]
    }
   ],
   "source": [
    "l = [2, 4, 6, 8, 10, 12, 14,\n",
    "16, 18, 20]\n",
    "l1=iter(l)\n",
    "for i in range(5):\n",
    "    print(next(l1))"
   ]
  },
  {
   "cell_type": "markdown",
   "id": "92f6cc9d",
   "metadata": {},
   "source": [
    "# Q4"
   ]
  },
  {
   "cell_type": "markdown",
   "id": "07d1d3a2",
   "metadata": {},
   "source": [
    "Generator is a function that produces a sequence of values.yield keyword is used to create a generator function that produces value but don't store all of them in memory at once."
   ]
  },
  {
   "cell_type": "code",
   "execution_count": 114,
   "id": "039293a8",
   "metadata": {},
   "outputs": [
    {
     "name": "stdout",
     "output_type": "stream",
     "text": [
      "0\n",
      "1\n",
      "1\n",
      "2\n",
      "3\n",
      "5\n",
      "8\n",
      "13\n",
      "21\n",
      "34\n"
     ]
    }
   ],
   "source": [
    "#Example \n",
    "def fibonacci_series(n):\n",
    "    \"This function genarate fibonacci series\"\n",
    "    a,b = 0,1\n",
    "    for i in range(n):\n",
    "        yield a\n",
    "        a,b =b,a+b\n",
    "for i in fibonacci_series(10):\n",
    "    print(i)  "
   ]
  },
  {
   "cell_type": "markdown",
   "id": "85cc937f",
   "metadata": {},
   "source": [
    "# Q5"
   ]
  },
  {
   "cell_type": "code",
   "execution_count": 129,
   "id": "f28848df",
   "metadata": {},
   "outputs": [],
   "source": [
    "def prime_numbers():\n",
    "    \"\"\"This function returns all the prime numbers less then 1000\"\"\"\n",
    "    for i in range(1,1000):\n",
    "        if i>1:\n",
    "            for j in range(2,i):\n",
    "                if i%j==0:\n",
    "                    break\n",
    "            else:\n",
    "                yield i"
   ]
  },
  {
   "cell_type": "code",
   "execution_count": 130,
   "id": "2acf54ba",
   "metadata": {},
   "outputs": [
    {
     "name": "stdout",
     "output_type": "stream",
     "text": [
      "2\n",
      "3\n",
      "5\n",
      "7\n",
      "11\n",
      "13\n",
      "17\n",
      "19\n",
      "23\n",
      "29\n"
     ]
    }
   ],
   "source": [
    "prime = prime_numbers()\n",
    "for i in range(10):\n",
    "    print(next(prime))"
   ]
  },
  {
   "cell_type": "markdown",
   "id": "858168ee",
   "metadata": {},
   "source": [
    "# Q6"
   ]
  },
  {
   "cell_type": "code",
   "execution_count": 119,
   "id": "77e95e26",
   "metadata": {},
   "outputs": [
    {
     "name": "stdout",
     "output_type": "stream",
     "text": [
      "0\n",
      "1\n",
      "1\n",
      "2\n",
      "3\n",
      "5\n",
      "8\n",
      "13\n",
      "21\n",
      "34\n"
     ]
    }
   ],
   "source": [
    "i = 1\n",
    "a,b = 0,1\n",
    "while i<=10:\n",
    "    print(a)\n",
    "    a,b = b,a+b\n",
    "    i+=1"
   ]
  },
  {
   "cell_type": "markdown",
   "id": "1aff79c9",
   "metadata": {},
   "source": [
    "# Q7"
   ]
  },
  {
   "cell_type": "code",
   "execution_count": 121,
   "id": "e2ce2409",
   "metadata": {},
   "outputs": [
    {
     "data": {
      "text/plain": [
       "['p', 'w', 's', 'k', 'i', 'l', 'l', 's']"
      ]
     },
     "execution_count": 121,
     "metadata": {},
     "output_type": "execute_result"
    }
   ],
   "source": [
    "[i for i in \"pwskills\"]"
   ]
  },
  {
   "cell_type": "markdown",
   "id": "9f5e665a",
   "metadata": {},
   "source": [
    "# Q8"
   ]
  },
  {
   "cell_type": "code",
   "execution_count": 170,
   "id": "ec4d187c",
   "metadata": {},
   "outputs": [
    {
     "name": "stdout",
     "output_type": "stream",
     "text": [
      "Enter the number:99\n",
      "yes palindrom\n"
     ]
    }
   ],
   "source": [
    "n =int(input(\"Enter the number:\"))\n",
    "t = n\n",
    "r = 0\n",
    "while n>0:\n",
    "    d = n%10\n",
    "    r = r*10+d\n",
    "    n = n//10\n",
    "if t==r:\n",
    "    print(\"yes palindrom\")\n",
    "else:\n",
    "    print(\"not palindrom\")"
   ]
  },
  {
   "cell_type": "markdown",
   "id": "f076ace8",
   "metadata": {},
   "source": [
    "# Q9"
   ]
  },
  {
   "cell_type": "code",
   "execution_count": 1,
   "id": "bfcb6b41",
   "metadata": {},
   "outputs": [
    {
     "data": {
      "text/plain": [
       "[1,\n",
       " 3,\n",
       " 5,\n",
       " 7,\n",
       " 9,\n",
       " 11,\n",
       " 13,\n",
       " 15,\n",
       " 17,\n",
       " 19,\n",
       " 21,\n",
       " 23,\n",
       " 25,\n",
       " 27,\n",
       " 29,\n",
       " 31,\n",
       " 33,\n",
       " 35,\n",
       " 37,\n",
       " 39,\n",
       " 41,\n",
       " 43,\n",
       " 45,\n",
       " 47,\n",
       " 49,\n",
       " 51,\n",
       " 53,\n",
       " 55,\n",
       " 57,\n",
       " 59,\n",
       " 61,\n",
       " 63,\n",
       " 65,\n",
       " 67,\n",
       " 69,\n",
       " 71,\n",
       " 73,\n",
       " 75,\n",
       " 77,\n",
       " 79,\n",
       " 81,\n",
       " 83,\n",
       " 85,\n",
       " 87,\n",
       " 89,\n",
       " 91,\n",
       " 93,\n",
       " 95,\n",
       " 97,\n",
       " 99]"
      ]
     },
     "execution_count": 1,
     "metadata": {},
     "output_type": "execute_result"
    }
   ],
   "source": [
    "[j for j in [i for i in range(100)] if j%2==1]"
   ]
  },
  {
   "cell_type": "code",
   "execution_count": null,
   "id": "6edf4db1",
   "metadata": {},
   "outputs": [],
   "source": []
  },
  {
   "cell_type": "code",
   "execution_count": null,
   "id": "e24c6483",
   "metadata": {},
   "outputs": [],
   "source": []
  }
 ],
 "metadata": {
  "kernelspec": {
   "display_name": "Python 3",
   "language": "python",
   "name": "python3"
  },
  "language_info": {
   "codemirror_mode": {
    "name": "ipython",
    "version": 3
   },
   "file_extension": ".py",
   "mimetype": "text/x-python",
   "name": "python",
   "nbconvert_exporter": "python",
   "pygments_lexer": "ipython3",
   "version": "3.8.8"
  }
 },
 "nbformat": 4,
 "nbformat_minor": 5
}
