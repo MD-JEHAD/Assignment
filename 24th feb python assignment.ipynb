{
 "cells": [
  {
   "cell_type": "markdown",
   "id": "506d507e-c2b1-4c4e-968a-b234e2e8614c",
   "metadata": {},
   "source": [
    "# Q1"
   ]
  },
  {
   "cell_type": "code",
   "execution_count": 1,
   "id": "9c6b9a6a-39d4-4efa-a60b-bcdc7633b7dd",
   "metadata": {},
   "outputs": [],
   "source": [
    "import pandas as pd"
   ]
  },
  {
   "cell_type": "code",
   "execution_count": 2,
   "id": "96bd1553-1047-4f94-a646-c81ecdd04f15",
   "metadata": {},
   "outputs": [],
   "source": [
    "df = pd.DataFrame({\"Values\":[10, 20, 30, 40, 50]})"
   ]
  },
  {
   "cell_type": "code",
   "execution_count": 3,
   "id": "c3e037b7-decd-42fe-8bb5-819bbe672d7a",
   "metadata": {},
   "outputs": [
    {
     "data": {
      "text/plain": [
       "['Values']\n",
       "Categories (1, object): ['Values']"
      ]
     },
     "execution_count": 3,
     "metadata": {},
     "output_type": "execute_result"
    }
   ],
   "source": [
    "pd.Categorical(df)"
   ]
  },
  {
   "cell_type": "code",
   "execution_count": 4,
   "id": "5f67dbc0-d0d2-4349-842f-fdc79315e0ed",
   "metadata": {},
   "outputs": [
    {
     "data": {
      "text/plain": [
       "<bound method NDFrame.describe of    Values\n",
       "0      10\n",
       "1      20\n",
       "2      30\n",
       "3      40\n",
       "4      50>"
      ]
     },
     "execution_count": 4,
     "metadata": {},
     "output_type": "execute_result"
    }
   ],
   "source": [
    "df.describe"
   ]
  },
  {
   "cell_type": "code",
   "execution_count": 5,
   "id": "8e1bac80-ba1a-40b8-85d8-a4a3fb32c15e",
   "metadata": {},
   "outputs": [
    {
     "data": {
      "text/plain": [
       "0    10\n",
       "1    20\n",
       "2    30\n",
       "3    40\n",
       "4    50\n",
       "dtype: int64"
      ]
     },
     "execution_count": 5,
     "metadata": {},
     "output_type": "execute_result"
    }
   ],
   "source": [
    "pd.Series([10, 20, 30, 40, 50])"
   ]
  },
  {
   "cell_type": "code",
   "execution_count": 6,
   "id": "4cd93169-5e61-4102-8f95-96fc3f255d6f",
   "metadata": {},
   "outputs": [
    {
     "data": {
      "text/plain": [
       "Index(['Values'], dtype='object')"
      ]
     },
     "execution_count": 6,
     "metadata": {},
     "output_type": "execute_result"
    }
   ],
   "source": [
    "df.columns"
   ]
  },
  {
   "cell_type": "markdown",
   "id": "5b757b1e-e0ec-4d8c-879d-40f5cbebcb3c",
   "metadata": {},
   "source": [
    "# Q2"
   ]
  },
  {
   "cell_type": "code",
   "execution_count": 7,
   "id": "89ce5411-6211-4c7b-ae50-13b3621e79ba",
   "metadata": {},
   "outputs": [],
   "source": [
    "df = pd.DataFrame({'A':[1,2,3,4,5,6,7],'B':[11,12,13,14,15,16,17],'C':[21,22,23,24,25,26,27]})"
   ]
  },
  {
   "cell_type": "code",
   "execution_count": 8,
   "id": "d6970481-912a-4fe9-8b3f-6766064e5b45",
   "metadata": {},
   "outputs": [
    {
     "data": {
      "text/html": [
       "<div>\n",
       "<style scoped>\n",
       "    .dataframe tbody tr th:only-of-type {\n",
       "        vertical-align: middle;\n",
       "    }\n",
       "\n",
       "    .dataframe tbody tr th {\n",
       "        vertical-align: top;\n",
       "    }\n",
       "\n",
       "    .dataframe thead th {\n",
       "        text-align: right;\n",
       "    }\n",
       "</style>\n",
       "<table border=\"1\" class=\"dataframe\">\n",
       "  <thead>\n",
       "    <tr style=\"text-align: right;\">\n",
       "      <th></th>\n",
       "      <th>A</th>\n",
       "      <th>B</th>\n",
       "      <th>C</th>\n",
       "    </tr>\n",
       "  </thead>\n",
       "  <tbody>\n",
       "    <tr>\n",
       "      <th>1</th>\n",
       "      <td>1</td>\n",
       "      <td>11</td>\n",
       "      <td>21</td>\n",
       "    </tr>\n",
       "    <tr>\n",
       "      <th>3</th>\n",
       "      <td>2</td>\n",
       "      <td>12</td>\n",
       "      <td>22</td>\n",
       "    </tr>\n",
       "    <tr>\n",
       "      <th>5</th>\n",
       "      <td>3</td>\n",
       "      <td>13</td>\n",
       "      <td>23</td>\n",
       "    </tr>\n",
       "    <tr>\n",
       "      <th>7</th>\n",
       "      <td>4</td>\n",
       "      <td>14</td>\n",
       "      <td>24</td>\n",
       "    </tr>\n",
       "    <tr>\n",
       "      <th>9</th>\n",
       "      <td>5</td>\n",
       "      <td>15</td>\n",
       "      <td>25</td>\n",
       "    </tr>\n",
       "    <tr>\n",
       "      <th>11</th>\n",
       "      <td>6</td>\n",
       "      <td>16</td>\n",
       "      <td>26</td>\n",
       "    </tr>\n",
       "    <tr>\n",
       "      <th>13</th>\n",
       "      <td>7</td>\n",
       "      <td>17</td>\n",
       "      <td>27</td>\n",
       "    </tr>\n",
       "  </tbody>\n",
       "</table>\n",
       "</div>"
      ],
      "text/plain": [
       "    A   B   C\n",
       "1   1  11  21\n",
       "3   2  12  22\n",
       "5   3  13  23\n",
       "7   4  14  24\n",
       "9   5  15  25\n",
       "11  6  16  26\n",
       "13  7  17  27"
      ]
     },
     "execution_count": 8,
     "metadata": {},
     "output_type": "execute_result"
    }
   ],
   "source": [
    "def re_indexing(df):\n",
    "    l=len(df)\n",
    "    a = (l*2)-1\n",
    "    for i in range(l-1,-1,-1):\n",
    "        df=df.rename(index={i:a})\n",
    "        a-=2\n",
    "    return df\n",
    "re_indexing(df)"
   ]
  },
  {
   "cell_type": "markdown",
   "id": "7f441197-90ff-471c-944a-f943dda66d39",
   "metadata": {},
   "source": [
    "# Q3"
   ]
  },
  {
   "cell_type": "code",
   "execution_count": 9,
   "id": "62369ba0-f9dc-48d1-9bff-4a627b4581d8",
   "metadata": {},
   "outputs": [],
   "source": [
    "df=pd.DataFrame({'values':[10, 20, 30, 40, 50]})"
   ]
  },
  {
   "cell_type": "code",
   "execution_count": 10,
   "id": "a412dfb2-cd32-46a3-8b09-92451deacec9",
   "metadata": {},
   "outputs": [
    {
     "data": {
      "text/plain": [
       "60"
      ]
     },
     "execution_count": 10,
     "metadata": {},
     "output_type": "execute_result"
    }
   ],
   "source": [
    "def sum_of_values(df):\n",
    "    result=0\n",
    "    v = 1\n",
    "    for i in df['values']:\n",
    "        result=result+i\n",
    "        if v ==3:\n",
    "            break\n",
    "        v+=1\n",
    "    return result\n",
    "sum_of_values(df)"
   ]
  },
  {
   "cell_type": "markdown",
   "id": "32cf6925-944e-4b8b-a618-80968cdeae85",
   "metadata": {},
   "source": [
    "# Q4"
   ]
  },
  {
   "cell_type": "code",
   "execution_count": 11,
   "id": "3b5417de-882b-4fe7-889a-129e17612e4d",
   "metadata": {},
   "outputs": [],
   "source": [
    "df =pd.DataFrame({\"Text\":[\"My name is md jehad hossain.\",\"ineuron\",\"i am a datascientist\"]})"
   ]
  },
  {
   "cell_type": "code",
   "execution_count": 12,
   "id": "5c482adb-63ae-482e-af8f-78fb32ffac0c",
   "metadata": {},
   "outputs": [
    {
     "data": {
      "text/html": [
       "<div>\n",
       "<style scoped>\n",
       "    .dataframe tbody tr th:only-of-type {\n",
       "        vertical-align: middle;\n",
       "    }\n",
       "\n",
       "    .dataframe tbody tr th {\n",
       "        vertical-align: top;\n",
       "    }\n",
       "\n",
       "    .dataframe thead th {\n",
       "        text-align: right;\n",
       "    }\n",
       "</style>\n",
       "<table border=\"1\" class=\"dataframe\">\n",
       "  <thead>\n",
       "    <tr style=\"text-align: right;\">\n",
       "      <th></th>\n",
       "      <th>Text</th>\n",
       "      <th>Word_Count</th>\n",
       "    </tr>\n",
       "  </thead>\n",
       "  <tbody>\n",
       "    <tr>\n",
       "      <th>0</th>\n",
       "      <td>My name is md jehad hossain.</td>\n",
       "      <td>6</td>\n",
       "    </tr>\n",
       "    <tr>\n",
       "      <th>1</th>\n",
       "      <td>ineuron</td>\n",
       "      <td>1</td>\n",
       "    </tr>\n",
       "    <tr>\n",
       "      <th>2</th>\n",
       "      <td>i am a datascientist</td>\n",
       "      <td>4</td>\n",
       "    </tr>\n",
       "  </tbody>\n",
       "</table>\n",
       "</div>"
      ],
      "text/plain": [
       "                           Text  Word_Count\n",
       "0  My name is md jehad hossain.           6\n",
       "1                       ineuron           1\n",
       "2          i am a datascientist           4"
      ]
     },
     "execution_count": 12,
     "metadata": {},
     "output_type": "execute_result"
    }
   ],
   "source": [
    "def columns_creator(df):\n",
    "    df['Word_Count']=0\n",
    "    l = len(df)\n",
    "    for i in range(l):\n",
    "        a =df[\"Text\"][i]\n",
    "        a=a.split()\n",
    "        wc = 0\n",
    "        for j in a:\n",
    "            wc += 1\n",
    "        df.at[i,\"Word_Count\"]=wc\n",
    "    return df\n",
    "columns_creator(df)"
   ]
  },
  {
   "cell_type": "markdown",
   "id": "98b961b0-22c8-4eb9-8dde-09df7e6140bc",
   "metadata": {},
   "source": [
    "# Q5"
   ]
  },
  {
   "cell_type": "markdown",
   "id": "8ae54e13-8312-4f61-88bf-d5b889970243",
   "metadata": {},
   "source": [
    "# DataFrame.size()\n",
    "Size of a dataframe is the number of fields in the dataframe which is nothing but number of rows * number of columns.\n",
    "# DataFrame.shape()\n",
    "The shape of a DataFrame is a tuple of array dimensions that tells the number of rows and columns of a given DataFrame."
   ]
  },
  {
   "cell_type": "markdown",
   "id": "2dab78ee-bfb1-4fef-b22a-945d72cc10a6",
   "metadata": {},
   "source": [
    "# Q6"
   ]
  },
  {
   "cell_type": "markdown",
   "id": "0eb096cc-9a48-4906-9ceb-7515c238dcd7",
   "metadata": {},
   "source": [
    "read_excel() function of pandas we use to read an excel file."
   ]
  },
  {
   "cell_type": "markdown",
   "id": "28b349fd-fe34-4341-853b-75dbb0b450ee",
   "metadata": {},
   "source": [
    "# Q7"
   ]
  },
  {
   "cell_type": "code",
   "execution_count": 17,
   "id": "3437dc4c-3731-4fec-a5aa-2143703586b5",
   "metadata": {},
   "outputs": [],
   "source": [
    "df = pd.DataFrame({\"Email\":[\"john.doe@example.com\"]})"
   ]
  },
  {
   "cell_type": "code",
   "execution_count": 20,
   "id": "ccb847bc-7f21-4f0e-a353-2b543b745dc9",
   "metadata": {},
   "outputs": [
    {
     "data": {
      "text/html": [
       "<div>\n",
       "<style scoped>\n",
       "    .dataframe tbody tr th:only-of-type {\n",
       "        vertical-align: middle;\n",
       "    }\n",
       "\n",
       "    .dataframe tbody tr th {\n",
       "        vertical-align: top;\n",
       "    }\n",
       "\n",
       "    .dataframe thead th {\n",
       "        text-align: right;\n",
       "    }\n",
       "</style>\n",
       "<table border=\"1\" class=\"dataframe\">\n",
       "  <thead>\n",
       "    <tr style=\"text-align: right;\">\n",
       "      <th></th>\n",
       "      <th>Email</th>\n",
       "      <th>Username</th>\n",
       "    </tr>\n",
       "  </thead>\n",
       "  <tbody>\n",
       "    <tr>\n",
       "      <th>0</th>\n",
       "      <td>john.doe@example.com</td>\n",
       "      <td>john.doe</td>\n",
       "    </tr>\n",
       "  </tbody>\n",
       "</table>\n",
       "</div>"
      ],
      "text/plain": [
       "                  Email  Username\n",
       "0  john.doe@example.com  john.doe"
      ]
     },
     "execution_count": 20,
     "metadata": {},
     "output_type": "execute_result"
    }
   ],
   "source": [
    "def username_creator(df):\n",
    "    df['Username']=\"j\"\n",
    "    l = len(df)\n",
    "    for i in range(l):\n",
    "        email = df[\"Email\"][i]\n",
    "        username = \"\"\n",
    "        for j in email:\n",
    "            if j==\"@\":\n",
    "                break\n",
    "            else:\n",
    "                username+=j\n",
    "            df.at[i,\"Username\"]=username\n",
    "    return df\n",
    "username_creator(df)"
   ]
  },
  {
   "cell_type": "markdown",
   "id": "e7285d4b-e2d5-4699-802a-fcbf2bee71cb",
   "metadata": {},
   "source": [
    "# Q8"
   ]
  },
  {
   "cell_type": "code",
   "execution_count": 34,
   "id": "2d380530-10e4-4444-b53a-d297c0f0657f",
   "metadata": {},
   "outputs": [],
   "source": [
    "df = pd.DataFrame({'A':[11,82,25,18,31,67,3,4,5,6,7,11,12,13],'B':[8,1,2,3,4,5,6,9,11,12,13,14,15,16],'C':[21,22,23,24,25,26,27,25,21,12,2,14,12,14]})"
   ]
  },
  {
   "cell_type": "code",
   "execution_count": 35,
   "id": "ac2d1a40-39dd-41bf-8279-36f18959cf90",
   "metadata": {},
   "outputs": [
    {
     "data": {
      "text/html": [
       "<div>\n",
       "<style scoped>\n",
       "    .dataframe tbody tr th:only-of-type {\n",
       "        vertical-align: middle;\n",
       "    }\n",
       "\n",
       "    .dataframe tbody tr th {\n",
       "        vertical-align: top;\n",
       "    }\n",
       "\n",
       "    .dataframe thead th {\n",
       "        text-align: right;\n",
       "    }\n",
       "</style>\n",
       "<table border=\"1\" class=\"dataframe\">\n",
       "  <thead>\n",
       "    <tr style=\"text-align: right;\">\n",
       "      <th></th>\n",
       "      <th>A</th>\n",
       "      <th>B</th>\n",
       "      <th>C</th>\n",
       "    </tr>\n",
       "  </thead>\n",
       "  <tbody>\n",
       "    <tr>\n",
       "      <th>0</th>\n",
       "      <td>11</td>\n",
       "      <td>8</td>\n",
       "      <td>21</td>\n",
       "    </tr>\n",
       "    <tr>\n",
       "      <th>1</th>\n",
       "      <td>82</td>\n",
       "      <td>1</td>\n",
       "      <td>22</td>\n",
       "    </tr>\n",
       "    <tr>\n",
       "      <th>2</th>\n",
       "      <td>25</td>\n",
       "      <td>2</td>\n",
       "      <td>23</td>\n",
       "    </tr>\n",
       "    <tr>\n",
       "      <th>3</th>\n",
       "      <td>18</td>\n",
       "      <td>3</td>\n",
       "      <td>24</td>\n",
       "    </tr>\n",
       "    <tr>\n",
       "      <th>4</th>\n",
       "      <td>31</td>\n",
       "      <td>4</td>\n",
       "      <td>25</td>\n",
       "    </tr>\n",
       "    <tr>\n",
       "      <th>5</th>\n",
       "      <td>67</td>\n",
       "      <td>5</td>\n",
       "      <td>26</td>\n",
       "    </tr>\n",
       "  </tbody>\n",
       "</table>\n",
       "</div>"
      ],
      "text/plain": [
       "    A  B   C\n",
       "0  11  8  21\n",
       "1  82  1  22\n",
       "2  25  2  23\n",
       "3  18  3  24\n",
       "4  31  4  25\n",
       "5  67  5  26"
      ]
     },
     "execution_count": 35,
     "metadata": {},
     "output_type": "execute_result"
    }
   ],
   "source": [
    "def df_filter(df):\n",
    "    df2=df[(df['A']>5) & (df['B']<10)]\n",
    "    return df2\n",
    "df_filter(df)"
   ]
  },
  {
   "cell_type": "code",
   "execution_count": null,
   "id": "b13148b2-c652-477b-8c39-c6903f844264",
   "metadata": {},
   "outputs": [],
   "source": []
  }
 ],
 "metadata": {
  "kernelspec": {
   "display_name": "Python 3 (ipykernel)",
   "language": "python",
   "name": "python3"
  },
  "language_info": {
   "codemirror_mode": {
    "name": "ipython",
    "version": 3
   },
   "file_extension": ".py",
   "mimetype": "text/x-python",
   "name": "python",
   "nbconvert_exporter": "python",
   "pygments_lexer": "ipython3",
   "version": "3.10.8"
  }
 },
 "nbformat": 4,
 "nbformat_minor": 5
}
