{
 "cells": [
  {
   "cell_type": "markdown",
   "id": "ac66b656",
   "metadata": {},
   "source": [
    "# Q1"
   ]
  },
  {
   "cell_type": "code",
   "execution_count": 39,
   "id": "14ff1e95",
   "metadata": {},
   "outputs": [
    {
     "name": "stdout",
     "output_type": "stream",
     "text": [
      "Enter the password: 10\n",
      "Invalid password\n"
     ]
    }
   ],
   "source": [
    "psd = input(\"Enter the password: \")\n",
    "u=0\n",
    "l=0\n",
    "n=0\n",
    "s=0\n",
    "for i in psd:\n",
    "    if i.isupper():\n",
    "        u=u+1\n",
    "    elif i.islower():\n",
    "        l=l+1\n",
    "    elif i.isnumeric():\n",
    "        n=n+1\n",
    "    elif i==\"!\" or i==\"#\" or i==\"@\" or i==\"!\" or i==\"$\" or i==\"%\" or i==\"^\" or i==\"&\" or i==\"*\" or i==\"(\" or i==\")\" or i==\"_\" or i==\"-\" or i==\"+\" or i==\"=\" or i==\"}\" or i==\"{\" or i==\"[\" or i==\"]\" or i==\"|\" or i==\";\" or i==\"<\" or i==\"`\" or i==\">\" or i==\"/\" or i==\"?\" or i==\"~\" or i==\"`\" or i==\":\":\n",
    "        s=s+1\n",
    "if u>=2 and l>=2 and n>=1 and s>=3 and len(psd)>=10:\n",
    "    print(\"Valid password\")\n",
    "else:\n",
    "    print(\"Invalid password\")\n"
   ]
  },
  {
   "cell_type": "markdown",
   "id": "448ab712",
   "metadata": {},
   "source": [
    "# Q2"
   ]
  },
  {
   "cell_type": "code",
   "execution_count": 40,
   "id": "6fbcf45d",
   "metadata": {},
   "outputs": [
    {
     "data": {
      "text/plain": [
       "True"
      ]
     },
     "execution_count": 40,
     "metadata": {},
     "output_type": "execute_result"
    }
   ],
   "source": [
    "a = \"jehad\"\n",
    "b = lambda x,y:x.startswith(y)\n",
    "b(a,\"j\")"
   ]
  },
  {
   "cell_type": "code",
   "execution_count": 41,
   "id": "075278a5",
   "metadata": {},
   "outputs": [
    {
     "data": {
      "text/plain": [
       "True"
      ]
     },
     "execution_count": 41,
     "metadata": {},
     "output_type": "execute_result"
    }
   ],
   "source": [
    "a = lambda x:x.isnumeric()\n",
    "a(\"10\")"
   ]
  },
  {
   "cell_type": "code",
   "execution_count": 42,
   "id": "959f44f0",
   "metadata": {},
   "outputs": [
    {
     "name": "stdout",
     "output_type": "stream",
     "text": [
      "[('grapes', 1000), ('mango', 99), ('orange', 80)]\n"
     ]
    }
   ],
   "source": [
    "l=[(\"mango\",99),(\"orange\",80), (\"grapes\", 1000)]\n",
    "sorted_list = reduce(lambda a, b: [x for x in a if x <= b] + [b] + [x for x in a if x > b],l,[])\n",
    "print(sorted_list)"
   ]
  },
  {
   "cell_type": "code",
   "execution_count": 43,
   "id": "27ca957a",
   "metadata": {},
   "outputs": [
    {
     "data": {
      "text/plain": [
       "[1, 4, 9, 16, 25, 36, 49, 64, 81, 100]"
      ]
     },
     "execution_count": 43,
     "metadata": {},
     "output_type": "execute_result"
    }
   ],
   "source": [
    "list(map(lambda x:x**2,list(range(1,11))))"
   ]
  },
  {
   "cell_type": "code",
   "execution_count": 44,
   "id": "e243fa87",
   "metadata": {},
   "outputs": [
    {
     "data": {
      "text/plain": [
       "[1.0,\n",
       " 1.2599210498948732,\n",
       " 1.4422495703074083,\n",
       " 1.5874010519681994,\n",
       " 1.7099759466766968,\n",
       " 1.8171205928321397,\n",
       " 1.912931182772389,\n",
       " 2.0,\n",
       " 2.080083823051904,\n",
       " 2.154434690031884]"
      ]
     },
     "execution_count": 44,
     "metadata": {},
     "output_type": "execute_result"
    }
   ],
   "source": [
    "list(map(lambda x:x**(1./3),list(range(1,11))))"
   ]
  },
  {
   "cell_type": "code",
   "execution_count": 45,
   "id": "b4387579",
   "metadata": {},
   "outputs": [
    {
     "data": {
      "text/plain": [
       "True"
      ]
     },
     "execution_count": 45,
     "metadata": {},
     "output_type": "execute_result"
    }
   ],
   "source": [
    "a = lambda x:x%2==0\n",
    "a(10)"
   ]
  },
  {
   "cell_type": "code",
   "execution_count": 46,
   "id": "a6577fc2",
   "metadata": {},
   "outputs": [
    {
     "data": {
      "text/plain": [
       "[1, 3, 5, 7, 9]"
      ]
     },
     "execution_count": 46,
     "metadata": {},
     "output_type": "execute_result"
    }
   ],
   "source": [
    "l=[1,2,3,4,5,6,7,8,9,10]\n",
    "[i for i in l if i%2==1]"
   ]
  },
  {
   "cell_type": "code",
   "execution_count": null,
   "id": "d8ff6ad8",
   "metadata": {},
   "outputs": [],
   "source": []
  },
  {
   "cell_type": "code",
   "execution_count": 47,
   "id": "41b00587",
   "metadata": {},
   "outputs": [
    {
     "name": "stdout",
     "output_type": "stream",
     "text": [
      "[-5, -4, -3, -2, -1, 0, 1, 2, 3, 4, 5, 6]\n"
     ]
    }
   ],
   "source": [
    "l=[1,2,3,4,5,6,-1,-2,-3,-4,-5,0]\n",
    "sorted_list = reduce(lambda a, b: [x for x in a if x <= b] + [b] + [x for x in a if x > b],l,[])\n",
    "print(sorted_list)"
   ]
  },
  {
   "cell_type": "code",
   "execution_count": 48,
   "id": "3547e007",
   "metadata": {},
   "outputs": [
    {
     "name": "stdout",
     "output_type": "stream",
     "text": [
      "[6, 5, 4, 3, 2, 1, 0, -1, -2, -3, -4, -5]\n"
     ]
    }
   ],
   "source": [
    "l=[1,2,3,4,5,6,-1,-2,-3,-4,-5,0]\n",
    "sorted_list = reduce(lambda a, b: [x for x in a if x >= b] + [b] + [x for x in a if x < b],l,[])\n",
    "print(sorted_list)"
   ]
  }
 ],
 "metadata": {
  "kernelspec": {
   "display_name": "Python 3",
   "language": "python",
   "name": "python3"
  },
  "language_info": {
   "codemirror_mode": {
    "name": "ipython",
    "version": 3
   },
   "file_extension": ".py",
   "mimetype": "text/x-python",
   "name": "python",
   "nbconvert_exporter": "python",
   "pygments_lexer": "ipython3",
   "version": "3.8.8"
  }
 },
 "nbformat": 4,
 "nbformat_minor": 5
}
